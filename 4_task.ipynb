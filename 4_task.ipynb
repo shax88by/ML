{
 "cells": [
  {
   "cell_type": "markdown",
   "metadata": {},
   "source": [
    "**Data preparation** is one of the essential processes in machine learning projects workflow: with well-prepared input even simple algorithm can achieve great result, and without it --- it’s hard to get something meaningful even using the most sophisticated models (remember concept of \"[garbage in — garbage out](https://en.wikipedia.org/wiki/Garbage_in,_garbage_out)\").\n",
    "\n",
    "Usually, specific preparation of data for ML modeling can be considered as part of [ETL](https://en.wikipedia.org/wiki/Extract,_transform,_load) process and consists of following steps:\n",
    "\n",
    "* **feature engineering**: transformation of raw data into proper features, that can be useful for modeling; sometimes, when original data is complex enough (e. g. text, images) this process is also called *feature extraction, feature preparation*.\n",
    "* **feature selection**: removing unnecessary features (usually it can help to improve model quality/performance/etc).\n"
   ]
  },
  {
   "cell_type": "code",
   "execution_count": 1,
   "metadata": {},
   "outputs": [],
   "source": [
    "## !conda install -c conda-forge scikit-learn -y"
   ]
  },
  {
   "cell_type": "code",
   "execution_count": 90,
   "metadata": {},
   "outputs": [],
   "source": [
    "import numpy as np\n",
    "import pandas as pd\n",
    "import seaborn as sns\n",
    "import matplotlib.pyplot as plt\n",
    "\n",
    "from sklearn.impute import SimpleImputer\n",
    "from sklearn.preprocessing import StandardScaler, MinMaxScaler, OrdinalEncoder, OneHotEncoder\n",
    "from sklearn.decomposition import PCA\n",
    "\n",
    "from sklearn.feature_selection import VarianceThreshold, SelectFromModel, RFECV, SequentialFeatureSelector\n",
    "\n",
    "from sklearn.ensemble import RandomForestClassifier, RandomForestRegressor\n",
    "from sklearn.linear_model import LogisticRegression\n",
    "\n",
    "from sklearn.model_selection import KFold, cross_val_score, train_test_split\n",
    "from sklearn.pipeline import Pipeline, make_pipeline\n",
    "from sklearn.metrics import accuracy_score\n",
    "\n",
    "from sklearn.datasets import make_classification, load_wine, load_breast_cancer, load_diabetes"
   ]
  },
  {
   "cell_type": "code",
   "execution_count": 91,
   "metadata": {},
   "outputs": [],
   "source": [
    "plt.style.use('seaborn-darkgrid')"
   ]
  },
  {
   "cell_type": "code",
   "execution_count": 92,
   "metadata": {},
   "outputs": [],
   "source": [
    "def plot_scatter(x, y, auto_scaled=True, title=None, clusters=None):\n",
    "    plt.figure(figsize=(4, 4))\n",
    "    plt.scatter(x, y)\n",
    "    \n",
    "    if not auto_scaled:\n",
    "        plt.axis('square')\n",
    "    \n",
    "    plt.grid(True)\n",
    "    plt.title(title)\n",
    "    \n",
    "    plt.show()\n",
    "    \n",
    "def return_X_y(data, target_column):\n",
    "    return data.drop(target_column, axis=1), data[target_column]"
   ]
  },
  {
   "cell_type": "markdown",
   "metadata": {},
   "source": [
    "# Feature Engineering"
   ]
  },
  {
   "cell_type": "markdown",
   "metadata": {},
   "source": [
    "## Missing Values Preprocessing"
   ]
  },
  {
   "cell_type": "code",
   "execution_count": 93,
   "metadata": {},
   "outputs": [],
   "source": [
    "housing_data = pd.read_csv('Melbourne_housing_FULL.csv')\n",
    "# prepare dataset for price regression\n",
    "housing_data = housing_data[~housing_data['Price'].isnull()]"
   ]
  },
  {
   "cell_type": "markdown",
   "metadata": {},
   "source": [
    "Missing values are one of the most common problems you can encounter when you try to prepare your data for machine learning. The reason for the missing values might be human errors, interruptions in the data flow, privacy concerns, and so on. Whatever is the reason, missing values affect the performance of the machine learning models (most of the algorithms do not even accept datasets with missing values)."
   ]
  },
  {
   "cell_type": "markdown",
   "metadata": {},
   "source": [
    "First let's check the amount of missing value in each column of our dataset:"
   ]
  },
  {
   "cell_type": "code",
   "execution_count": 94,
   "metadata": {},
   "outputs": [
    {
     "data": {
      "text/plain": [
       "Suburb           0.000000\n",
       "Address          0.000000\n",
       "Rooms            0.000000\n",
       "Type             0.000000\n",
       "Price            0.000000\n",
       "Method           0.000000\n",
       "SellerG          0.000000\n",
       "Date             0.000000\n",
       "Distance         0.000037\n",
       "Postcode         0.000037\n",
       "Bedroom2         0.236393\n",
       "Bathroom         0.236613\n",
       "Car              0.250450\n",
       "Landsize         0.340037\n",
       "BuildingArea     0.608911\n",
       "YearBuilt        0.556502\n",
       "CouncilArea      0.000110\n",
       "Lattitude        0.229530\n",
       "Longtitude       0.229530\n",
       "Regionname       0.000110\n",
       "Propertycount    0.000110\n",
       "dtype: float64"
      ]
     },
     "execution_count": 94,
     "metadata": {},
     "output_type": "execute_result"
    }
   ],
   "source": [
    "housing_data.isnull().mean() # housing_data.isnull().sum() to get absolute numbers"
   ]
  },
  {
   "cell_type": "markdown",
   "metadata": {},
   "source": [
    "The most simple strategy is to drop entire rows and/or columns containing missing values based on some threshold (for example, if column contains more than *30%* --- drop it, then drop all rows that still contains some NaN's)."
   ]
  },
  {
   "cell_type": "code",
   "execution_count": 95,
   "metadata": {},
   "outputs": [
    {
     "name": "stdout",
     "output_type": "stream",
     "text": [
      "Original dataset shape (rows, cols): (27247, 21)\n",
      "Dataset shape (rows, cols) after dropna: (20401, 18)\n"
     ]
    }
   ],
   "source": [
    "threshold = 0.3\n",
    "housing_data_dropped = housing_data[housing_data.columns[housing_data.isnull().mean() < threshold]]\n",
    "housing_data_dropped = housing_data_dropped.dropna(axis=0, how='any') # params is optinal here (matching defaults)\n",
    "print(f'Original dataset shape (rows, cols): {housing_data.shape}')\n",
    "print(f'Dataset shape (rows, cols) after dropna: {housing_data_dropped.shape}')"
   ]
  },
  {
   "cell_type": "markdown",
   "metadata": {},
   "source": [
    "In general dropping data without additional investigation is not a good approach in most cases since you lose a lot of potentially useful information. For this particular dataset we've fully dropped `Landsize`, `BuildingArea` columns (which actually seem like strong features from common sense). \n",
    "\n",
    "Usually a better strategy is to impute the missing values, i.e., to infer them from the known part of the data. However, there is an important selection of what you impute to the missing values. You can use default value of missing values in the column. For example, if you have a column that only has `1` and `N\\A`, then it is likely that the `N\\A` rows may be considered as `0`. \n",
    "Another way is to use basic statistics (like *mean* and *medians* of the columns) for imputation."
   ]
  },
  {
   "cell_type": "code",
   "execution_count": 96,
   "metadata": {},
   "outputs": [],
   "source": [
    "# const imputing\n",
    "housing_data_const = housing_data.fillna(value=0)\n",
    "\n",
    "# mean imputing\n",
    "housing_data_mean = housing_data.fillna(housing_data.mean())"
   ]
  },
  {
   "cell_type": "markdown",
   "metadata": {},
   "source": [
    "There are also some advanced technics [KNN Imputation](), [Multivariate imputation]().\n",
    "\n",
    "But commonly the most beneficial way is to dig deeper in available data, understand root cases of the problem and develop mixed strategy (for separate features based on investigation results). **Subject matter expertise rules!**\n",
    "\n",
    "For example, one of the questions you may ask yourself to help figure this out is this: \n",
    "\n",
    "`Is this value missing because it wasn't recorded or because it doesn’t exist?`\n",
    "\n",
    "If the value is missing because it doesn’t exist (like the height of the oldest child of someone who doesn't have any children) then it doesn't make sense to try and guess what it might be. These values you probably do want to mark this value using some special tag (or create separate bool feature). On the other hand, if a value is missing because it wasn't recorded, then you may probably use some of the imputation technics mentioned above or even more sophisticated ones.\n"
   ]
  },
  {
   "cell_type": "markdown",
   "metadata": {},
   "source": [
    "## Feature scaling"
   ]
  },
  {
   "cell_type": "code",
   "execution_count": 97,
   "metadata": {},
   "outputs": [
    {
     "data": {
      "text/html": [
       "<div>\n",
       "<style scoped>\n",
       "    .dataframe tbody tr th:only-of-type {\n",
       "        vertical-align: middle;\n",
       "    }\n",
       "\n",
       "    .dataframe tbody tr th {\n",
       "        vertical-align: top;\n",
       "    }\n",
       "\n",
       "    .dataframe thead th {\n",
       "        text-align: right;\n",
       "    }\n",
       "</style>\n",
       "<table border=\"1\" class=\"dataframe\">\n",
       "  <thead>\n",
       "    <tr style=\"text-align: right;\">\n",
       "      <th></th>\n",
       "      <th>alcohol</th>\n",
       "      <th>malic_acid</th>\n",
       "      <th>ash</th>\n",
       "      <th>alcalinity_of_ash</th>\n",
       "      <th>magnesium</th>\n",
       "      <th>total_phenols</th>\n",
       "      <th>flavanoids</th>\n",
       "      <th>nonflavanoid_phenols</th>\n",
       "      <th>proanthocyanins</th>\n",
       "      <th>color_intensity</th>\n",
       "      <th>hue</th>\n",
       "      <th>od280/od315_of_diluted_wines</th>\n",
       "      <th>proline</th>\n",
       "    </tr>\n",
       "  </thead>\n",
       "  <tbody>\n",
       "    <tr>\n",
       "      <th>0</th>\n",
       "      <td>14.23</td>\n",
       "      <td>1.71</td>\n",
       "      <td>2.43</td>\n",
       "      <td>15.6</td>\n",
       "      <td>127.0</td>\n",
       "      <td>2.80</td>\n",
       "      <td>3.06</td>\n",
       "      <td>0.28</td>\n",
       "      <td>2.29</td>\n",
       "      <td>5.64</td>\n",
       "      <td>1.04</td>\n",
       "      <td>3.92</td>\n",
       "      <td>1065.0</td>\n",
       "    </tr>\n",
       "    <tr>\n",
       "      <th>1</th>\n",
       "      <td>13.20</td>\n",
       "      <td>1.78</td>\n",
       "      <td>2.14</td>\n",
       "      <td>11.2</td>\n",
       "      <td>100.0</td>\n",
       "      <td>2.65</td>\n",
       "      <td>2.76</td>\n",
       "      <td>0.26</td>\n",
       "      <td>1.28</td>\n",
       "      <td>4.38</td>\n",
       "      <td>1.05</td>\n",
       "      <td>3.40</td>\n",
       "      <td>1050.0</td>\n",
       "    </tr>\n",
       "    <tr>\n",
       "      <th>2</th>\n",
       "      <td>13.16</td>\n",
       "      <td>2.36</td>\n",
       "      <td>2.67</td>\n",
       "      <td>18.6</td>\n",
       "      <td>101.0</td>\n",
       "      <td>2.80</td>\n",
       "      <td>3.24</td>\n",
       "      <td>0.30</td>\n",
       "      <td>2.81</td>\n",
       "      <td>5.68</td>\n",
       "      <td>1.03</td>\n",
       "      <td>3.17</td>\n",
       "      <td>1185.0</td>\n",
       "    </tr>\n",
       "    <tr>\n",
       "      <th>3</th>\n",
       "      <td>14.37</td>\n",
       "      <td>1.95</td>\n",
       "      <td>2.50</td>\n",
       "      <td>16.8</td>\n",
       "      <td>113.0</td>\n",
       "      <td>3.85</td>\n",
       "      <td>3.49</td>\n",
       "      <td>0.24</td>\n",
       "      <td>2.18</td>\n",
       "      <td>7.80</td>\n",
       "      <td>0.86</td>\n",
       "      <td>3.45</td>\n",
       "      <td>1480.0</td>\n",
       "    </tr>\n",
       "    <tr>\n",
       "      <th>4</th>\n",
       "      <td>13.24</td>\n",
       "      <td>2.59</td>\n",
       "      <td>2.87</td>\n",
       "      <td>21.0</td>\n",
       "      <td>118.0</td>\n",
       "      <td>2.80</td>\n",
       "      <td>2.69</td>\n",
       "      <td>0.39</td>\n",
       "      <td>1.82</td>\n",
       "      <td>4.32</td>\n",
       "      <td>1.04</td>\n",
       "      <td>2.93</td>\n",
       "      <td>735.0</td>\n",
       "    </tr>\n",
       "    <tr>\n",
       "      <th>...</th>\n",
       "      <td>...</td>\n",
       "      <td>...</td>\n",
       "      <td>...</td>\n",
       "      <td>...</td>\n",
       "      <td>...</td>\n",
       "      <td>...</td>\n",
       "      <td>...</td>\n",
       "      <td>...</td>\n",
       "      <td>...</td>\n",
       "      <td>...</td>\n",
       "      <td>...</td>\n",
       "      <td>...</td>\n",
       "      <td>...</td>\n",
       "    </tr>\n",
       "    <tr>\n",
       "      <th>173</th>\n",
       "      <td>13.71</td>\n",
       "      <td>5.65</td>\n",
       "      <td>2.45</td>\n",
       "      <td>20.5</td>\n",
       "      <td>95.0</td>\n",
       "      <td>1.68</td>\n",
       "      <td>0.61</td>\n",
       "      <td>0.52</td>\n",
       "      <td>1.06</td>\n",
       "      <td>7.70</td>\n",
       "      <td>0.64</td>\n",
       "      <td>1.74</td>\n",
       "      <td>740.0</td>\n",
       "    </tr>\n",
       "    <tr>\n",
       "      <th>174</th>\n",
       "      <td>13.40</td>\n",
       "      <td>3.91</td>\n",
       "      <td>2.48</td>\n",
       "      <td>23.0</td>\n",
       "      <td>102.0</td>\n",
       "      <td>1.80</td>\n",
       "      <td>0.75</td>\n",
       "      <td>0.43</td>\n",
       "      <td>1.41</td>\n",
       "      <td>7.30</td>\n",
       "      <td>0.70</td>\n",
       "      <td>1.56</td>\n",
       "      <td>750.0</td>\n",
       "    </tr>\n",
       "    <tr>\n",
       "      <th>175</th>\n",
       "      <td>13.27</td>\n",
       "      <td>4.28</td>\n",
       "      <td>2.26</td>\n",
       "      <td>20.0</td>\n",
       "      <td>120.0</td>\n",
       "      <td>1.59</td>\n",
       "      <td>0.69</td>\n",
       "      <td>0.43</td>\n",
       "      <td>1.35</td>\n",
       "      <td>10.20</td>\n",
       "      <td>0.59</td>\n",
       "      <td>1.56</td>\n",
       "      <td>835.0</td>\n",
       "    </tr>\n",
       "    <tr>\n",
       "      <th>176</th>\n",
       "      <td>13.17</td>\n",
       "      <td>2.59</td>\n",
       "      <td>2.37</td>\n",
       "      <td>20.0</td>\n",
       "      <td>120.0</td>\n",
       "      <td>1.65</td>\n",
       "      <td>0.68</td>\n",
       "      <td>0.53</td>\n",
       "      <td>1.46</td>\n",
       "      <td>9.30</td>\n",
       "      <td>0.60</td>\n",
       "      <td>1.62</td>\n",
       "      <td>840.0</td>\n",
       "    </tr>\n",
       "    <tr>\n",
       "      <th>177</th>\n",
       "      <td>14.13</td>\n",
       "      <td>4.10</td>\n",
       "      <td>2.74</td>\n",
       "      <td>24.5</td>\n",
       "      <td>96.0</td>\n",
       "      <td>2.05</td>\n",
       "      <td>0.76</td>\n",
       "      <td>0.56</td>\n",
       "      <td>1.35</td>\n",
       "      <td>9.20</td>\n",
       "      <td>0.61</td>\n",
       "      <td>1.60</td>\n",
       "      <td>560.0</td>\n",
       "    </tr>\n",
       "  </tbody>\n",
       "</table>\n",
       "<p>178 rows × 13 columns</p>\n",
       "</div>"
      ],
      "text/plain": [
       "     alcohol  malic_acid   ash  alcalinity_of_ash  magnesium  total_phenols  \\\n",
       "0      14.23        1.71  2.43               15.6      127.0           2.80   \n",
       "1      13.20        1.78  2.14               11.2      100.0           2.65   \n",
       "2      13.16        2.36  2.67               18.6      101.0           2.80   \n",
       "3      14.37        1.95  2.50               16.8      113.0           3.85   \n",
       "4      13.24        2.59  2.87               21.0      118.0           2.80   \n",
       "..       ...         ...   ...                ...        ...            ...   \n",
       "173    13.71        5.65  2.45               20.5       95.0           1.68   \n",
       "174    13.40        3.91  2.48               23.0      102.0           1.80   \n",
       "175    13.27        4.28  2.26               20.0      120.0           1.59   \n",
       "176    13.17        2.59  2.37               20.0      120.0           1.65   \n",
       "177    14.13        4.10  2.74               24.5       96.0           2.05   \n",
       "\n",
       "     flavanoids  nonflavanoid_phenols  proanthocyanins  color_intensity   hue  \\\n",
       "0          3.06                  0.28             2.29             5.64  1.04   \n",
       "1          2.76                  0.26             1.28             4.38  1.05   \n",
       "2          3.24                  0.30             2.81             5.68  1.03   \n",
       "3          3.49                  0.24             2.18             7.80  0.86   \n",
       "4          2.69                  0.39             1.82             4.32  1.04   \n",
       "..          ...                   ...              ...              ...   ...   \n",
       "173        0.61                  0.52             1.06             7.70  0.64   \n",
       "174        0.75                  0.43             1.41             7.30  0.70   \n",
       "175        0.69                  0.43             1.35            10.20  0.59   \n",
       "176        0.68                  0.53             1.46             9.30  0.60   \n",
       "177        0.76                  0.56             1.35             9.20  0.61   \n",
       "\n",
       "     od280/od315_of_diluted_wines  proline  \n",
       "0                            3.92   1065.0  \n",
       "1                            3.40   1050.0  \n",
       "2                            3.17   1185.0  \n",
       "3                            3.45   1480.0  \n",
       "4                            2.93    735.0  \n",
       "..                            ...      ...  \n",
       "173                          1.74    740.0  \n",
       "174                          1.56    750.0  \n",
       "175                          1.56    835.0  \n",
       "176                          1.62    840.0  \n",
       "177                          1.60    560.0  \n",
       "\n",
       "[178 rows x 13 columns]"
      ]
     },
     "execution_count": 97,
     "metadata": {},
     "output_type": "execute_result"
    }
   ],
   "source": [
    "wine_sklearn = load_wine(as_frame=True)\n",
    "wine_data, wine_labels = wine_sklearn['data'], wine_sklearn['target']\n",
    "wine_data"
   ]
  },
  {
   "cell_type": "markdown",
   "metadata": {},
   "source": [
    "In real world datasets you can often see multiple features spanning varying degrees of magnitude, range, and units. This is a significant obstacle as a lot of machine learning algorithms are highly sensitive to such things.\n",
    "\n",
    "To make it simple: algorithm just sees number and does not know what that number represents --- if there is a vast difference in the range say few ranging in thousands and few ranging in dozens, it makes the underlying assumption that higher ranging numbers have superiority of some sort. So, these more significant number starts playing a more decisive role while training the model.\n",
    "\n",
    "For example, you might be looking at the prices of some products in both Yen and US Dollars. One US Dollar is worth about 100 Yen, but if you don't scale your prices methods like SVM or KNN will consider a difference in price of 1 Yen as important as a difference of 1 US Dollar! This clearly doesn't fit with our intuitions of the world. With currency, you can convert between currencies. But what about if you're looking at something like height and weight? It's not entirely clear how many pounds should equal one inch (or how many kilograms should equal one meter).\n",
    "\n",
    "By scaling your variables, you can help compare different variables on equal footing (scale)."
   ]
  },
  {
   "cell_type": "markdown",
   "metadata": {},
   "source": [
    "### Standartization"
   ]
  },
  {
   "cell_type": "markdown",
   "metadata": {},
   "source": [
    "**Standardization** of datasets is a common requirement for many machine learning models. The idea is to transform the data to the center it by removing the mean value of each feature, then scale it by dividing non-constant features by their standard deviation.\n",
    "\n",
    "$$scaled\\_X = \\frac{X - mean(X)}{std(X)}$$, where $X$ is **feature column** (not dataset itself!)\n",
    "\n",
    "A common approach is to use `StandardScaler` from `sklearn`:\n"
   ]
  },
  {
   "cell_type": "code",
   "execution_count": 98,
   "metadata": {},
   "outputs": [
    {
     "data": {
      "text/plain": [
       "array([[ 1.51861254, -0.5622498 ,  0.23205254, ...,  0.36217728,\n",
       "         1.84791957,  1.01300893],\n",
       "       [ 0.24628963, -0.49941338, -0.82799632, ...,  0.40605066,\n",
       "         1.1134493 ,  0.96524152],\n",
       "       [ 0.19687903,  0.02123125,  1.10933436, ...,  0.31830389,\n",
       "         0.78858745,  1.39514818],\n",
       "       ...,\n",
       "       [ 0.33275817,  1.74474449, -0.38935541, ..., -1.61212515,\n",
       "        -1.48544548,  0.28057537],\n",
       "       [ 0.20923168,  0.22769377,  0.01273209, ..., -1.56825176,\n",
       "        -1.40069891,  0.29649784],\n",
       "       [ 1.39508604,  1.58316512,  1.36520822, ..., -1.52437837,\n",
       "        -1.42894777, -0.59516041]])"
      ]
     },
     "execution_count": 98,
     "metadata": {},
     "output_type": "execute_result"
    }
   ],
   "source": [
    "scaler = StandardScaler()\n",
    "wine_data_scaled = scaler.fit_transform(wine_data)\n",
    "wine_data_scaled"
   ]
  },
  {
   "cell_type": "markdown",
   "metadata": {},
   "source": [
    "Let's illustrate the influence of scaling on [PCA](https://en.wikipedia.org/wiki/Principal_component_analysis):"
   ]
  },
  {
   "cell_type": "code",
   "execution_count": 99,
   "metadata": {},
   "outputs": [
    {
     "data": {
      "image/png": "[encoded data removed]",
      "text/plain": [
       "<Figure size 1296x720 with 2 Axes>"
      ]
     },
     "metadata": {},
     "output_type": "display_data"
    }
   ],
   "source": [
    "pca = PCA(n_components=2)\n",
    "\n",
    "wine_data_pca = pca.fit_transform(wine_data)\n",
    "wine_data_scaled_pca = pca.fit_transform(wine_data_scaled)\n",
    "\n",
    "fig, (ax1, ax2) = plt.subplots(ncols=2, figsize=(18, 10))\n",
    "\n",
    "for l, c, m in zip(range(0, 3), ('blue', 'red', 'green'), ('^', 's', 'o')):\n",
    "    ax1.scatter(wine_data_pca[wine_labels == l, 0], wine_data_pca[wine_labels == l, 1], \n",
    "                color=c, label=f'class {l}', alpha=0.5, marker=m)\n",
    "\n",
    "for l, c, m in zip(range(0, 3), ('blue', 'red', 'green'), ('^', 's', 'o')):\n",
    "    ax2.scatter(wine_data_scaled_pca[wine_labels == l, 0], wine_data_scaled_pca[wine_labels == l, 1], \n",
    "                color=c, label=f'class {l}', alpha=0.5, marker=m)\n",
    "    \n",
    "ax1.set_title('Dataset after PCA')\n",
    "ax2.set_title('Standardized dataset after PCA')\n",
    "\n",
    "for ax in (ax1, ax2):\n",
    "    ax.set_xlabel('1st principal component')\n",
    "    ax.set_ylabel('2nd principal component')\n",
    "    ax.legend(loc='upper right')"
   ]
  },
  {
   "cell_type": "markdown",
   "metadata": {},
   "source": [
    "### Normalization"
   ]
  },
  {
   "cell_type": "markdown",
   "metadata": {},
   "source": [
    "An alternative standardization is scaling features to lie between a given minimum and maximum value, often between zero and one, or so that the maximum absolute value of each feature is scaled to unit size (also known as **Normalization**.  This can be achieved using `MinMaxScaler` or `MaxAbsScaler` from `sklearn`, respectively.\n",
    "\n",
    "The motivation to use this scaling include robustness to very small standard deviations of features and preserving zero entries in sparse data."
   ]
  },
  {
   "cell_type": "markdown",
   "metadata": {},
   "source": [
    "$$normalised\\_X = \\frac{X - min(X)}{max(X) - min(X)}$$, where $X$ is **feature column** (not dataset itself!)"
   ]
  },
  {
   "cell_type": "code",
   "execution_count": 100,
   "metadata": {},
   "outputs": [
    {
     "data": {
      "text/plain": [
       "array([[0.84210526, 0.1916996 , 0.57219251, ..., 0.45528455, 0.97069597,\n",
       "        0.56134094],\n",
       "       [0.57105263, 0.2055336 , 0.4171123 , ..., 0.46341463, 0.78021978,\n",
       "        0.55064194],\n",
       "       [0.56052632, 0.3201581 , 0.70053476, ..., 0.44715447, 0.6959707 ,\n",
       "        0.64693295],\n",
       "       ...,\n",
       "       [0.58947368, 0.69960474, 0.48128342, ..., 0.08943089, 0.10622711,\n",
       "        0.39728959],\n",
       "       [0.56315789, 0.36561265, 0.54010695, ..., 0.09756098, 0.12820513,\n",
       "        0.40085592],\n",
       "       [0.81578947, 0.66403162, 0.73796791, ..., 0.10569106, 0.12087912,\n",
       "        0.20114123]])"
      ]
     },
     "execution_count": 100,
     "metadata": {},
     "output_type": "execute_result"
    }
   ],
   "source": [
    "from sklearn.preprocessing import MinMaxScaler\n",
    "\n",
    "scaler = MinMaxScaler()\n",
    "scaler.fit_transform(wine_data)"
   ]
  },
  {
   "cell_type": "markdown",
   "metadata": {},
   "source": [
    "## Log/Power Transform"
   ]
  },
  {
   "cell_type": "markdown",
   "metadata": {},
   "source": [
    "Log transformation is a data transformation method in which it replaces each variable $x$ with a $log(x)$. The choice of the logarithm base is usually left up to the analyst and it would depend on the purposes of statistical modeling.\n",
    "\n",
    "When our original continuous data do not follow the bell curve, we can log transform this data to make it as “normal” as possible so that the statistical analysis results from this data become more valid. In other words, the log transformation reduces or removes the skewness of our original data. The important caveat here is that the original data has to approximately follow a *log-normal distribution*. Otherwise, you can't expect any guarantees that result distribution will be close to normal (but even in such cases log transform can help to improve you scores)."
   ]
  },
  {
   "cell_type": "code",
   "execution_count": 101,
   "metadata": {},
   "outputs": [],
   "source": [
    "mu, sigma = 5, 1\n",
    "lognorm_data = np.random.lognormal(mu, sigma, 1000)"
   ]
  },
  {
   "cell_type": "code",
   "execution_count": 102,
   "metadata": {},
   "outputs": [
    {
     "data": {
      "image/png": "[encoded data removed]",
      "text/plain": [
       "<Figure size 1152x576 with 1 Axes>"
      ]
     },
     "metadata": {},
     "output_type": "display_data"
    }
   ],
   "source": [
    "plt.figure(figsize=(16,8))\n",
    "sns.histplot(lognorm_data, stat='probability')\n",
    "plt.show()"
   ]
  },
  {
   "cell_type": "code",
   "execution_count": 103,
   "metadata": {},
   "outputs": [
    {
     "data": {
      "image/png": "[encoded data removed]",
      "text/plain": [
       "<Figure size 1152x576 with 1 Axes>"
      ]
     },
     "metadata": {},
     "output_type": "display_data"
    }
   ],
   "source": [
    "plt.figure(figsize=(16,8))\n",
    "sns.histplot(np.log(lognorm_data), stat='probability')\n",
    "plt.show()"
   ]
  },
  {
   "cell_type": "markdown",
   "metadata": {},
   "source": [
    "This may sound a bit odd: is it even possible to meet something specific like \"log-normal distribution\" in real life?\n",
    "\n",
    "Well, let's plot the price column from Melbourne housing dataset, that we used previously:"
   ]
  },
  {
   "cell_type": "code",
   "execution_count": 104,
   "metadata": {},
   "outputs": [
    {
     "data": {
      "image/png": "[encoded data removed]",
      "text/plain": [
       "<Figure size 1152x576 with 1 Axes>"
      ]
     },
     "metadata": {},
     "output_type": "display_data"
    }
   ],
   "source": [
    "plt.figure(figsize=(16,8))\n",
    "sns.histplot(housing_data['Price'], stat='probability')\n",
    "plt.show()"
   ]
  },
  {
   "cell_type": "markdown",
   "metadata": {},
   "source": [
    "Seems familiar!\n",
    "\n",
    "Eventually, lognormal distribution of some value in real world is quite common (just like normal distribution). It is suitable for describing length of comments, posted in the internet; the salaries amount; the population of cities and many other things. You may find some [more](https://en.wikipedia.org/wiki/Log-normal_distribution#Occurrence_and_applications) examples just on the wikipedia page.\n",
    "\n",
    "However, to get some profit from this transformation, the distribution does not necessarily have to be *exactly* lognormal; you can try to apply it to any distribution with a heavy right tail. Furthermore, one can try to use other similar transformations, formulating their own hypotheses on how to approximate the available distribution to a normal. Examples of such transformations are Box-Cox transformation (log is a special case of the Box-Cox transformation) or Yeo-Johnson transformation (extends the range of applicability to negative numbers). Some information about these transformations and their implementations in `sklean` can be found [here](https://scikit-learn.org/stable/modules/preprocessing.html#non-linear-transformation)."
   ]
  },
  {
   "cell_type": "markdown",
   "metadata": {},
   "source": [
    "## Categorical Features Encoding"
   ]
  },
  {
   "cell_type": "markdown",
   "metadata": {},
   "source": [
    "Quite often features are not given as continuous values but categorical. For example a person could have features `[\"male\", \"female\"], [\"from Europe\", \"from US\", \"from Asia\"], [\"uses Firefox\", \"uses Chrome\", \"uses Safari\", \"uses Internet Explorer\"]`. Such features can be efficiently coded as integers, for instance `[\"male\", \"from US\", \"uses Internet Explorer\"]` could be expressed as `[0, 1, 3]` while `[\"female\", \"from Asia\", \"uses Chrome\"]` would be `[1, 2, 1]`.\n",
    "\n",
    "To convert categorical features to such integer codes, we can use the *ordinal encoding*. It transforms each categorical feature to a range of integers (0 to number of categories - 1)."
   ]
  },
  {
   "cell_type": "code",
   "execution_count": 105,
   "metadata": {},
   "outputs": [
    {
     "data": {
      "text/html": [
       "<div>\n",
       "<style scoped>\n",
       "    .dataframe tbody tr th:only-of-type {\n",
       "        vertical-align: middle;\n",
       "    }\n",
       "\n",
       "    .dataframe tbody tr th {\n",
       "        vertical-align: top;\n",
       "    }\n",
       "\n",
       "    .dataframe thead th {\n",
       "        text-align: right;\n",
       "    }\n",
       "</style>\n",
       "<table border=\"1\" class=\"dataframe\">\n",
       "  <thead>\n",
       "    <tr style=\"text-align: right;\">\n",
       "      <th></th>\n",
       "      <th>gender</th>\n",
       "      <th>place</th>\n",
       "      <th>browser</th>\n",
       "    </tr>\n",
       "  </thead>\n",
       "  <tbody>\n",
       "    <tr>\n",
       "      <th>0</th>\n",
       "      <td>male</td>\n",
       "      <td>US</td>\n",
       "      <td>Safari</td>\n",
       "    </tr>\n",
       "    <tr>\n",
       "      <th>1</th>\n",
       "      <td>female</td>\n",
       "      <td>Europe</td>\n",
       "      <td>Firefox</td>\n",
       "    </tr>\n",
       "    <tr>\n",
       "      <th>2</th>\n",
       "      <td>male</td>\n",
       "      <td>Europe</td>\n",
       "      <td>Opera</td>\n",
       "    </tr>\n",
       "  </tbody>\n",
       "</table>\n",
       "</div>"
      ],
      "text/plain": [
       "   gender   place  browser\n",
       "0    male      US   Safari\n",
       "1  female  Europe  Firefox\n",
       "2    male  Europe    Opera"
      ]
     },
     "execution_count": 105,
     "metadata": {},
     "output_type": "execute_result"
    }
   ],
   "source": [
    "X = [['male', 'US', 'Safari'], ['female', 'Europe', 'Firefox'], ['male', 'Europe', 'Opera']]\n",
    "pd.DataFrame(X, columns=['gender', 'place', 'browser'])"
   ]
  },
  {
   "cell_type": "code",
   "execution_count": 106,
   "metadata": {},
   "outputs": [],
   "source": [
    "encoder = OrdinalEncoder()\n",
    "ordinal_encoded_X = encoder.fit_transform(X)"
   ]
  },
  {
   "cell_type": "markdown",
   "metadata": {},
   "source": [
    "Such integer representation can, however, can be unsuitable, for a lot of models: these expect continuous input, and would interpret the categories as being ordered, which is often not desired.\n",
    "\n",
    "Another possibility to convert categorical features to features that can be used with scikit-learn estimators is to use *one-hot* encoding. The idea is to transforms each categorical feature, that has $n$ different possible categories, into $n$ separate binary features (whether the object belongs to specific category or not)."
   ]
  },
  {
   "cell_type": "code",
   "execution_count": 107,
   "metadata": {},
   "outputs": [],
   "source": [
    "encoder = OneHotEncoder()\n",
    "ohe_encoded_X = encoder.fit_transform(X).toarray()"
   ]
  },
  {
   "cell_type": "code",
   "execution_count": 108,
   "metadata": {},
   "outputs": [
    {
     "data": {
      "text/html": [
       "<div>\n",
       "<style scoped>\n",
       "    .dataframe tbody tr th:only-of-type {\n",
       "        vertical-align: middle;\n",
       "    }\n",
       "\n",
       "    .dataframe tbody tr th {\n",
       "        vertical-align: top;\n",
       "    }\n",
       "\n",
       "    .dataframe thead th {\n",
       "        text-align: right;\n",
       "    }\n",
       "</style>\n",
       "<table border=\"1\" class=\"dataframe\">\n",
       "  <thead>\n",
       "    <tr style=\"text-align: right;\">\n",
       "      <th></th>\n",
       "      <th>x0_female</th>\n",
       "      <th>x0_male</th>\n",
       "      <th>x1_Europe</th>\n",
       "      <th>x1_US</th>\n",
       "      <th>x2_Firefox</th>\n",
       "      <th>x2_Opera</th>\n",
       "      <th>x2_Safari</th>\n",
       "    </tr>\n",
       "  </thead>\n",
       "  <tbody>\n",
       "    <tr>\n",
       "      <th>0</th>\n",
       "      <td>0.0</td>\n",
       "      <td>1.0</td>\n",
       "      <td>0.0</td>\n",
       "      <td>1.0</td>\n",
       "      <td>0.0</td>\n",
       "      <td>0.0</td>\n",
       "      <td>1.0</td>\n",
       "    </tr>\n",
       "    <tr>\n",
       "      <th>1</th>\n",
       "      <td>1.0</td>\n",
       "      <td>0.0</td>\n",
       "      <td>1.0</td>\n",
       "      <td>0.0</td>\n",
       "      <td>1.0</td>\n",
       "      <td>0.0</td>\n",
       "      <td>0.0</td>\n",
       "    </tr>\n",
       "    <tr>\n",
       "      <th>2</th>\n",
       "      <td>0.0</td>\n",
       "      <td>1.0</td>\n",
       "      <td>1.0</td>\n",
       "      <td>0.0</td>\n",
       "      <td>0.0</td>\n",
       "      <td>1.0</td>\n",
       "      <td>0.0</td>\n",
       "    </tr>\n",
       "  </tbody>\n",
       "</table>\n",
       "</div>"
      ],
      "text/plain": [
       "   x0_female  x0_male  x1_Europe  x1_US  x2_Firefox  x2_Opera  x2_Safari\n",
       "0        0.0      1.0        0.0    1.0         0.0       0.0        1.0\n",
       "1        1.0      0.0        1.0    0.0         1.0       0.0        0.0\n",
       "2        0.0      1.0        1.0    0.0         0.0       1.0        0.0"
      ]
     },
     "execution_count": 108,
     "metadata": {},
     "output_type": "execute_result"
    }
   ],
   "source": [
    "pd.DataFrame(ohe_encoded_X, columns=encoder.get_feature_names())"
   ]
  },
  {
   "cell_type": "markdown",
   "metadata": {},
   "source": [
    "It is also possible to encode each column into  $n - 1$ columns instead of $n$ columns by using the drop parameter (also called *dummy encoding*). This is useful to avoid co-linearity in the input matrix in some classifiers. Such functionality is useful, for example, when using non-regularized regression, since co-linearity would cause the covariance matrix to be non-invertible."
   ]
  },
  {
   "cell_type": "markdown",
   "metadata": {},
   "source": [
    "You can read about some advanced technics [here](https://www.analyticsvidhya.com/blog/2020/08/types-of-categorical-data-encoding). However, most of them equivalent to one hot encoding to some degree.\n"
   ]
  },
  {
   "cell_type": "markdown",
   "metadata": {},
   "source": [
    "# Feature Selection"
   ]
  },
  {
   "cell_type": "markdown",
   "metadata": {},
   "source": [
    "Why is it sometimes necessary to select just subset of features and not all at once? The idea of removing features may seem a little counterintuitive, but there is some import motivation here:\n",
    "\n",
    "1) First is more connected to engeneering side: the more data, the higher the computational complexity. Removing some unimportant and noisy features can help a lot here.    \n",
    "2) The second reason is related to algorithms side: some models can be unstable when data have highly correlated features ([multicolinearity](https://datascience.stackexchange.com/questions/24452/in-supervised-learning-why-is-it-bad-to-have-correlated-features)), some --- when data is noisy. "
   ]
  },
  {
   "cell_type": "code",
   "execution_count": 21,
   "metadata": {},
   "outputs": [
    {
     "data": {
      "text/html": [
       "<div>\n",
       "<style scoped>\n",
       "    .dataframe tbody tr th:only-of-type {\n",
       "        vertical-align: middle;\n",
       "    }\n",
       "\n",
       "    .dataframe tbody tr th {\n",
       "        vertical-align: top;\n",
       "    }\n",
       "\n",
       "    .dataframe thead th {\n",
       "        text-align: right;\n",
       "    }\n",
       "</style>\n",
       "<table border=\"1\" class=\"dataframe\">\n",
       "  <thead>\n",
       "    <tr style=\"text-align: right;\">\n",
       "      <th></th>\n",
       "      <th>mean radius</th>\n",
       "      <th>mean texture</th>\n",
       "      <th>mean perimeter</th>\n",
       "      <th>mean area</th>\n",
       "      <th>mean smoothness</th>\n",
       "      <th>mean compactness</th>\n",
       "      <th>mean concavity</th>\n",
       "      <th>mean concave points</th>\n",
       "      <th>mean symmetry</th>\n",
       "      <th>mean fractal dimension</th>\n",
       "      <th>...</th>\n",
       "      <th>worst radius</th>\n",
       "      <th>worst texture</th>\n",
       "      <th>worst perimeter</th>\n",
       "      <th>worst area</th>\n",
       "      <th>worst smoothness</th>\n",
       "      <th>worst compactness</th>\n",
       "      <th>worst concavity</th>\n",
       "      <th>worst concave points</th>\n",
       "      <th>worst symmetry</th>\n",
       "      <th>worst fractal dimension</th>\n",
       "    </tr>\n",
       "  </thead>\n",
       "  <tbody>\n",
       "    <tr>\n",
       "      <th>0</th>\n",
       "      <td>17.99</td>\n",
       "      <td>10.38</td>\n",
       "      <td>122.80</td>\n",
       "      <td>1001.0</td>\n",
       "      <td>0.11840</td>\n",
       "      <td>0.27760</td>\n",
       "      <td>0.30010</td>\n",
       "      <td>0.14710</td>\n",
       "      <td>0.2419</td>\n",
       "      <td>0.07871</td>\n",
       "      <td>...</td>\n",
       "      <td>25.380</td>\n",
       "      <td>17.33</td>\n",
       "      <td>184.60</td>\n",
       "      <td>2019.0</td>\n",
       "      <td>0.16220</td>\n",
       "      <td>0.66560</td>\n",
       "      <td>0.7119</td>\n",
       "      <td>0.2654</td>\n",
       "      <td>0.4601</td>\n",
       "      <td>0.11890</td>\n",
       "    </tr>\n",
       "    <tr>\n",
       "      <th>1</th>\n",
       "      <td>20.57</td>\n",
       "      <td>17.77</td>\n",
       "      <td>132.90</td>\n",
       "      <td>1326.0</td>\n",
       "      <td>0.08474</td>\n",
       "      <td>0.07864</td>\n",
       "      <td>0.08690</td>\n",
       "      <td>0.07017</td>\n",
       "      <td>0.1812</td>\n",
       "      <td>0.05667</td>\n",
       "      <td>...</td>\n",
       "      <td>24.990</td>\n",
       "      <td>23.41</td>\n",
       "      <td>158.80</td>\n",
       "      <td>1956.0</td>\n",
       "      <td>0.12380</td>\n",
       "      <td>0.18660</td>\n",
       "      <td>0.2416</td>\n",
       "      <td>0.1860</td>\n",
       "      <td>0.2750</td>\n",
       "      <td>0.08902</td>\n",
       "    </tr>\n",
       "    <tr>\n",
       "      <th>2</th>\n",
       "      <td>19.69</td>\n",
       "      <td>21.25</td>\n",
       "      <td>130.00</td>\n",
       "      <td>1203.0</td>\n",
       "      <td>0.10960</td>\n",
       "      <td>0.15990</td>\n",
       "      <td>0.19740</td>\n",
       "      <td>0.12790</td>\n",
       "      <td>0.2069</td>\n",
       "      <td>0.05999</td>\n",
       "      <td>...</td>\n",
       "      <td>23.570</td>\n",
       "      <td>25.53</td>\n",
       "      <td>152.50</td>\n",
       "      <td>1709.0</td>\n",
       "      <td>0.14440</td>\n",
       "      <td>0.42450</td>\n",
       "      <td>0.4504</td>\n",
       "      <td>0.2430</td>\n",
       "      <td>0.3613</td>\n",
       "      <td>0.08758</td>\n",
       "    </tr>\n",
       "    <tr>\n",
       "      <th>3</th>\n",
       "      <td>11.42</td>\n",
       "      <td>20.38</td>\n",
       "      <td>77.58</td>\n",
       "      <td>386.1</td>\n",
       "      <td>0.14250</td>\n",
       "      <td>0.28390</td>\n",
       "      <td>0.24140</td>\n",
       "      <td>0.10520</td>\n",
       "      <td>0.2597</td>\n",
       "      <td>0.09744</td>\n",
       "      <td>...</td>\n",
       "      <td>14.910</td>\n",
       "      <td>26.50</td>\n",
       "      <td>98.87</td>\n",
       "      <td>567.7</td>\n",
       "      <td>0.20980</td>\n",
       "      <td>0.86630</td>\n",
       "      <td>0.6869</td>\n",
       "      <td>0.2575</td>\n",
       "      <td>0.6638</td>\n",
       "      <td>0.17300</td>\n",
       "    </tr>\n",
       "    <tr>\n",
       "      <th>4</th>\n",
       "      <td>20.29</td>\n",
       "      <td>14.34</td>\n",
       "      <td>135.10</td>\n",
       "      <td>1297.0</td>\n",
       "      <td>0.10030</td>\n",
       "      <td>0.13280</td>\n",
       "      <td>0.19800</td>\n",
       "      <td>0.10430</td>\n",
       "      <td>0.1809</td>\n",
       "      <td>0.05883</td>\n",
       "      <td>...</td>\n",
       "      <td>22.540</td>\n",
       "      <td>16.67</td>\n",
       "      <td>152.20</td>\n",
       "      <td>1575.0</td>\n",
       "      <td>0.13740</td>\n",
       "      <td>0.20500</td>\n",
       "      <td>0.4000</td>\n",
       "      <td>0.1625</td>\n",
       "      <td>0.2364</td>\n",
       "      <td>0.07678</td>\n",
       "    </tr>\n",
       "    <tr>\n",
       "      <th>...</th>\n",
       "      <td>...</td>\n",
       "      <td>...</td>\n",
       "      <td>...</td>\n",
       "      <td>...</td>\n",
       "      <td>...</td>\n",
       "      <td>...</td>\n",
       "      <td>...</td>\n",
       "      <td>...</td>\n",
       "      <td>...</td>\n",
       "      <td>...</td>\n",
       "      <td>...</td>\n",
       "      <td>...</td>\n",
       "      <td>...</td>\n",
       "      <td>...</td>\n",
       "      <td>...</td>\n",
       "      <td>...</td>\n",
       "      <td>...</td>\n",
       "      <td>...</td>\n",
       "      <td>...</td>\n",
       "      <td>...</td>\n",
       "      <td>...</td>\n",
       "    </tr>\n",
       "    <tr>\n",
       "      <th>564</th>\n",
       "      <td>21.56</td>\n",
       "      <td>22.39</td>\n",
       "      <td>142.00</td>\n",
       "      <td>1479.0</td>\n",
       "      <td>0.11100</td>\n",
       "      <td>0.11590</td>\n",
       "      <td>0.24390</td>\n",
       "      <td>0.13890</td>\n",
       "      <td>0.1726</td>\n",
       "      <td>0.05623</td>\n",
       "      <td>...</td>\n",
       "      <td>25.450</td>\n",
       "      <td>26.40</td>\n",
       "      <td>166.10</td>\n",
       "      <td>2027.0</td>\n",
       "      <td>0.14100</td>\n",
       "      <td>0.21130</td>\n",
       "      <td>0.4107</td>\n",
       "      <td>0.2216</td>\n",
       "      <td>0.2060</td>\n",
       "      <td>0.07115</td>\n",
       "    </tr>\n",
       "    <tr>\n",
       "      <th>565</th>\n",
       "      <td>20.13</td>\n",
       "      <td>28.25</td>\n",
       "      <td>131.20</td>\n",
       "      <td>1261.0</td>\n",
       "      <td>0.09780</td>\n",
       "      <td>0.10340</td>\n",
       "      <td>0.14400</td>\n",
       "      <td>0.09791</td>\n",
       "      <td>0.1752</td>\n",
       "      <td>0.05533</td>\n",
       "      <td>...</td>\n",
       "      <td>23.690</td>\n",
       "      <td>38.25</td>\n",
       "      <td>155.00</td>\n",
       "      <td>1731.0</td>\n",
       "      <td>0.11660</td>\n",
       "      <td>0.19220</td>\n",
       "      <td>0.3215</td>\n",
       "      <td>0.1628</td>\n",
       "      <td>0.2572</td>\n",
       "      <td>0.06637</td>\n",
       "    </tr>\n",
       "    <tr>\n",
       "      <th>566</th>\n",
       "      <td>16.60</td>\n",
       "      <td>28.08</td>\n",
       "      <td>108.30</td>\n",
       "      <td>858.1</td>\n",
       "      <td>0.08455</td>\n",
       "      <td>0.10230</td>\n",
       "      <td>0.09251</td>\n",
       "      <td>0.05302</td>\n",
       "      <td>0.1590</td>\n",
       "      <td>0.05648</td>\n",
       "      <td>...</td>\n",
       "      <td>18.980</td>\n",
       "      <td>34.12</td>\n",
       "      <td>126.70</td>\n",
       "      <td>1124.0</td>\n",
       "      <td>0.11390</td>\n",
       "      <td>0.30940</td>\n",
       "      <td>0.3403</td>\n",
       "      <td>0.1418</td>\n",
       "      <td>0.2218</td>\n",
       "      <td>0.07820</td>\n",
       "    </tr>\n",
       "    <tr>\n",
       "      <th>567</th>\n",
       "      <td>20.60</td>\n",
       "      <td>29.33</td>\n",
       "      <td>140.10</td>\n",
       "      <td>1265.0</td>\n",
       "      <td>0.11780</td>\n",
       "      <td>0.27700</td>\n",
       "      <td>0.35140</td>\n",
       "      <td>0.15200</td>\n",
       "      <td>0.2397</td>\n",
       "      <td>0.07016</td>\n",
       "      <td>...</td>\n",
       "      <td>25.740</td>\n",
       "      <td>39.42</td>\n",
       "      <td>184.60</td>\n",
       "      <td>1821.0</td>\n",
       "      <td>0.16500</td>\n",
       "      <td>0.86810</td>\n",
       "      <td>0.9387</td>\n",
       "      <td>0.2650</td>\n",
       "      <td>0.4087</td>\n",
       "      <td>0.12400</td>\n",
       "    </tr>\n",
       "    <tr>\n",
       "      <th>568</th>\n",
       "      <td>7.76</td>\n",
       "      <td>24.54</td>\n",
       "      <td>47.92</td>\n",
       "      <td>181.0</td>\n",
       "      <td>0.05263</td>\n",
       "      <td>0.04362</td>\n",
       "      <td>0.00000</td>\n",
       "      <td>0.00000</td>\n",
       "      <td>0.1587</td>\n",
       "      <td>0.05884</td>\n",
       "      <td>...</td>\n",
       "      <td>9.456</td>\n",
       "      <td>30.37</td>\n",
       "      <td>59.16</td>\n",
       "      <td>268.6</td>\n",
       "      <td>0.08996</td>\n",
       "      <td>0.06444</td>\n",
       "      <td>0.0000</td>\n",
       "      <td>0.0000</td>\n",
       "      <td>0.2871</td>\n",
       "      <td>0.07039</td>\n",
       "    </tr>\n",
       "  </tbody>\n",
       "</table>\n",
       "<p>569 rows × 30 columns</p>\n",
       "</div>"
      ],
      "text/plain": [
       "     mean radius  mean texture  mean perimeter  mean area  mean smoothness  \\\n",
       "0          17.99         10.38          122.80     1001.0          0.11840   \n",
       "1          20.57         17.77          132.90     1326.0          0.08474   \n",
       "2          19.69         21.25          130.00     1203.0          0.10960   \n",
       "3          11.42         20.38           77.58      386.1          0.14250   \n",
       "4          20.29         14.34          135.10     1297.0          0.10030   \n",
       "..           ...           ...             ...        ...              ...   \n",
       "564        21.56         22.39          142.00     1479.0          0.11100   \n",
       "565        20.13         28.25          131.20     1261.0          0.09780   \n",
       "566        16.60         28.08          108.30      858.1          0.08455   \n",
       "567        20.60         29.33          140.10     1265.0          0.11780   \n",
       "568         7.76         24.54           47.92      181.0          0.05263   \n",
       "\n",
       "     mean compactness  mean concavity  mean concave points  mean symmetry  \\\n",
       "0             0.27760         0.30010              0.14710         0.2419   \n",
       "1             0.07864         0.08690              0.07017         0.1812   \n",
       "2             0.15990         0.19740              0.12790         0.2069   \n",
       "3             0.28390         0.24140              0.10520         0.2597   \n",
       "4             0.13280         0.19800              0.10430         0.1809   \n",
       "..                ...             ...                  ...            ...   \n",
       "564           0.11590         0.24390              0.13890         0.1726   \n",
       "565           0.10340         0.14400              0.09791         0.1752   \n",
       "566           0.10230         0.09251              0.05302         0.1590   \n",
       "567           0.27700         0.35140              0.15200         0.2397   \n",
       "568           0.04362         0.00000              0.00000         0.1587   \n",
       "\n",
       "     mean fractal dimension  ...  worst radius  worst texture  \\\n",
       "0                   0.07871  ...        25.380          17.33   \n",
       "1                   0.05667  ...        24.990          23.41   \n",
       "2                   0.05999  ...        23.570          25.53   \n",
       "3                   0.09744  ...        14.910          26.50   \n",
       "4                   0.05883  ...        22.540          16.67   \n",
       "..                      ...  ...           ...            ...   \n",
       "564                 0.05623  ...        25.450          26.40   \n",
       "565                 0.05533  ...        23.690          38.25   \n",
       "566                 0.05648  ...        18.980          34.12   \n",
       "567                 0.07016  ...        25.740          39.42   \n",
       "568                 0.05884  ...         9.456          30.37   \n",
       "\n",
       "     worst perimeter  worst area  worst smoothness  worst compactness  \\\n",
       "0             184.60      2019.0           0.16220            0.66560   \n",
       "1             158.80      1956.0           0.12380            0.18660   \n",
       "2             152.50      1709.0           0.14440            0.42450   \n",
       "3              98.87       567.7           0.20980            0.86630   \n",
       "4             152.20      1575.0           0.13740            0.20500   \n",
       "..               ...         ...               ...                ...   \n",
       "564           166.10      2027.0           0.14100            0.21130   \n",
       "565           155.00      1731.0           0.11660            0.19220   \n",
       "566           126.70      1124.0           0.11390            0.30940   \n",
       "567           184.60      1821.0           0.16500            0.86810   \n",
       "568            59.16       268.6           0.08996            0.06444   \n",
       "\n",
       "     worst concavity  worst concave points  worst symmetry  \\\n",
       "0             0.7119                0.2654          0.4601   \n",
       "1             0.2416                0.1860          0.2750   \n",
       "2             0.4504                0.2430          0.3613   \n",
       "3             0.6869                0.2575          0.6638   \n",
       "4             0.4000                0.1625          0.2364   \n",
       "..               ...                   ...             ...   \n",
       "564           0.4107                0.2216          0.2060   \n",
       "565           0.3215                0.1628          0.2572   \n",
       "566           0.3403                0.1418          0.2218   \n",
       "567           0.9387                0.2650          0.4087   \n",
       "568           0.0000                0.0000          0.2871   \n",
       "\n",
       "     worst fractal dimension  \n",
       "0                    0.11890  \n",
       "1                    0.08902  \n",
       "2                    0.08758  \n",
       "3                    0.17300  \n",
       "4                    0.07678  \n",
       "..                       ...  \n",
       "564                  0.07115  \n",
       "565                  0.06637  \n",
       "566                  0.07820  \n",
       "567                  0.12400  \n",
       "568                  0.07039  \n",
       "\n",
       "[569 rows x 30 columns]"
      ]
     },
     "execution_count": 21,
     "metadata": {},
     "output_type": "execute_result"
    }
   ],
   "source": [
    "cancer_sklearn = load_breast_cancer(as_frame=True)\n",
    "cancer_data, cancer_labels = cancer_sklearn['data'], cancer_sklearn['target']\n",
    "cancer_data_scaled = StandardScaler().fit_transform(cancer_data)\n",
    "cancer_data"
   ]
  },
  {
   "cell_type": "markdown",
   "metadata": {},
   "source": [
    "## Statistical Approaches"
   ]
  },
  {
   "cell_type": "markdown",
   "metadata": {},
   "source": [
    "The most obvious candidate for removal is a feature whose value remains unchanged, i.e., it contains no information at all. If we build on this thought, it is reasonable to say that features with low variance are worse than those with high variance. So, one can consider cutting features with variance below a certain threshold."
   ]
  },
  {
   "cell_type": "code",
   "execution_count": 22,
   "metadata": {},
   "outputs": [
    {
     "data": {
      "text/plain": [
       "(1000, 25)"
      ]
     },
     "execution_count": 22,
     "metadata": {},
     "output_type": "execute_result"
    }
   ],
   "source": [
    "X_generated, y_generated = make_classification(n_samples=1000, n_features=25, n_informative=3,\n",
    "                                                         n_redundant=2, n_repeated=0)\n",
    "X_generated.shape"
   ]
  },
  {
   "cell_type": "code",
   "execution_count": 23,
   "metadata": {},
   "outputs": [
    {
     "name": "stdout",
     "output_type": "stream",
     "text": [
      "(1000, 24)\n",
      "(1000, 13)\n",
      "(1000, 4)\n"
     ]
    }
   ],
   "source": [
    "print(VarianceThreshold(0.9).fit_transform(X_generated).shape)\n",
    "print(VarianceThreshold(1).fit_transform(X_generated).shape)\n",
    "print(VarianceThreshold(1.1).fit_transform(X_generated).shape)"
   ]
  },
  {
   "cell_type": "markdown",
   "metadata": {},
   "source": [
    "Keep in mind that we are using absolute value as threshold, so in real world scenario it is necessary to bring all the features to same scale (perform scaling before thresholding).\n",
    "\n",
    "Personally, I won't recommend using `VarianceTreshold` unless you are completely sure that it's needed and won't make things worse: the low variance does not necessarily mean that feature is not informative. You can also try [other](https://scikit-learn.org/stable/modules/feature_selection.html#univariate-feature-selection) a little bit more advanced statistical approaches."
   ]
  },
  {
   "cell_type": "markdown",
   "metadata": {},
   "source": [
    "## Selection From Modeling\n"
   ]
  },
  {
   "cell_type": "markdown",
   "metadata": {},
   "source": [
    "Basically, the idea is to use some model as an feature importance estimator: for example, we can use linear model with `Lasso` regularization (and feature weights from it) or some tree based models (which have natural ability to compute feature importance). Then, based on received importance/weights we can choose some threshold and take features, that have importance above this value."
   ]
  },
  {
   "cell_type": "code",
   "execution_count": 89,
   "metadata": {},
   "outputs": [
    {
     "name": "stdout",
     "output_type": "stream",
     "text": [
      "Index(['mean radius', 'mean perimeter', 'mean area', 'mean concavity',\n",
      "       'mean concave points', 'worst radius', 'worst perimeter', 'worst area',\n",
      "       'worst concavity', 'worst concave points'],\n",
      "      dtype='object')\n",
      "Original shape: (569, 30)\n",
      "Shape after selection: (569, 10)\n"
     ]
    }
   ],
   "source": [
    "selection_model = RandomForestClassifier(random_state=42)\n",
    "selector = SelectFromModel(selection_model).fit(cancer_data, cancer_labels)\n",
    "cancer_data_pruned = selector.transform(cancer_data)\n",
    "print(cancer_data.columns[selector.get_support()])\n",
    "print(f'Original shape: {cancer_data.shape}')\n",
    "print(f'Shape after selection: {cancer_data_pruned.shape}')"
   ]
  },
  {
   "cell_type": "code",
   "execution_count": 88,
   "metadata": {},
   "outputs": [
    {
     "ename": "TypeError",
     "evalue": "StandardScaler() missing 1 required positional argument: 'z'",
     "output_type": "error",
     "traceback": [
      "\u001b[1;31m---------------------------------------------------------------------------\u001b[0m",
      "\u001b[1;31mTypeError\u001b[0m                                 Traceback (most recent call last)",
      "\u001b[1;32m<ipython-input-88-0106ee137c1e>\u001b[0m in \u001b[0;36m<module>\u001b[1;34m\u001b[0m\n\u001b[0;32m      1\u001b[0m \u001b[0mmain_model\u001b[0m \u001b[1;33m=\u001b[0m \u001b[0mLogisticRegression\u001b[0m\u001b[1;33m(\u001b[0m\u001b[0msolver\u001b[0m\u001b[1;33m=\u001b[0m\u001b[1;34m'liblinear'\u001b[0m\u001b[1;33m,\u001b[0m \u001b[0mpenalty\u001b[0m\u001b[1;33m=\u001b[0m\u001b[1;34m'l1'\u001b[0m\u001b[1;33m)\u001b[0m\u001b[1;33m\u001b[0m\u001b[1;33m\u001b[0m\u001b[0m\n\u001b[1;32m----> 2\u001b[1;33m \u001b[0mpipe_baseline\u001b[0m \u001b[1;33m=\u001b[0m \u001b[0mmake_pipeline\u001b[0m\u001b[1;33m(\u001b[0m\u001b[0mStandardScaler\u001b[0m\u001b[1;33m(\u001b[0m\u001b[1;33m)\u001b[0m\u001b[1;33m,\u001b[0m \u001b[0mmain_model\u001b[0m\u001b[1;33m)\u001b[0m\u001b[1;33m\u001b[0m\u001b[1;33m\u001b[0m\u001b[0m\n\u001b[0m\u001b[0;32m      3\u001b[0m \u001b[0mpipe_selection\u001b[0m \u001b[1;33m=\u001b[0m \u001b[0mmake_pipeline\u001b[0m\u001b[1;33m(\u001b[0m\u001b[0mStandardScaler\u001b[0m\u001b[1;33m(\u001b[0m\u001b[1;33m)\u001b[0m\u001b[1;33m,\u001b[0m \u001b[0mSelectFromModel\u001b[0m\u001b[1;33m(\u001b[0m\u001b[0mselection_model\u001b[0m\u001b[1;33m)\u001b[0m\u001b[1;33m,\u001b[0m \u001b[0mmain_model\u001b[0m\u001b[1;33m)\u001b[0m \u001b[1;31m# fix to select only once\u001b[0m\u001b[1;33m\u001b[0m\u001b[1;33m\u001b[0m\u001b[0m\n\u001b[0;32m      4\u001b[0m \u001b[1;33m\u001b[0m\u001b[0m\n\u001b[0;32m      5\u001b[0m print('Result on original data: {:f}'.format(cross_val_score(pipe_baseline, cancer_data, cancer_labels, \n",
      "\u001b[1;31mTypeError\u001b[0m: StandardScaler() missing 1 required positional argument: 'z'"
     ]
    }
   ],
   "source": [
    "main_model = LogisticRegression(solver='liblinear', penalty='l1')\n",
    "pipe_baseline = make_pipeline(StandardScaler(), main_model)\n",
    "pipe_selection = make_pipeline(StandardScaler(), SelectFromModel(selection_model), main_model) # fix to select only once\n",
    "\n",
    "print('Result on original data: {:f}'.format(cross_val_score(pipe_baseline, cancer_data, cancer_labels, \n",
    "                      scoring='accuracy', cv=5).mean()))\n",
    "\n",
    "print('Result after selection {:f}'.format(cross_val_score(pipe_selection, cancer_data, cancer_labels, \n",
    "                      scoring='accuracy', cv=5).mean()))"
   ]
  },
  {
   "cell_type": "markdown",
   "metadata": {},
   "source": [
    "We were able to reduce the number of features significantly, but, as you can see, stable performance is not guaranteed."
   ]
  },
  {
   "cell_type": "markdown",
   "metadata": {},
   "source": [
    "It's also possible to use same model as an importance estimator and actual classifier (regressor).\n",
    "As a development of this approach we can consider recursive feature elimination: first, the model is trained on the initial set of features and the importance of each feature is obtained. Then, the least important features are pruned from current set of features. That procedure is recursively repeated on the pruned set until the desired number of features to select is eventually reached."
   ]
  },
  {
   "cell_type": "code",
   "execution_count": 26,
   "metadata": {},
   "outputs": [
    {
     "name": "stdout",
     "output_type": "stream",
     "text": [
      "Optimal number of features : 22\n"
     ]
    }
   ],
   "source": [
    "min_features_to_select = 1 \n",
    "rfecv = RFECV(estimator=main_model, step=1, cv=KFold(3), \n",
    "              scoring='accuracy', min_features_to_select=min_features_to_select)\n",
    "rfecv.fit(cancer_data_scaled, cancer_labels)\n",
    "\n",
    "print(\"Optimal number of features : %d\" % rfecv.n_features_)\n"
   ]
  },
  {
   "cell_type": "code",
   "execution_count": 27,
   "metadata": {},
   "outputs": [
    {
     "data": {
      "image/png": "[encoded data removed]",
      "text/plain": [
       "<Figure size 1152x576 with 1 Axes>"
      ]
     },
     "metadata": {},
     "output_type": "display_data"
    }
   ],
   "source": [
    "plt.figure(figsize=(16,8))\n",
    "plt.plot(range(min_features_to_select,\n",
    "               len(rfecv.grid_scores_) + min_features_to_select),\n",
    "         rfecv.grid_scores_)\n",
    "plt.show()"
   ]
  },
  {
   "cell_type": "markdown",
   "metadata": {},
   "source": [
    "## Greedy (Sequential) Feature Selection "
   ]
  },
  {
   "cell_type": "markdown",
   "metadata": {},
   "source": [
    "Finally, we get to the most reliable method --- trivial brute force: just test all possible subsets of features (train a model on a subset of features, store results, repeat for different subsets, and compare the quality of models to identify the best feature set). This approach is called [Exhaustive Feature Selection](http://rasbt.github.io/mlxtend/user_guide/feature_selection/ExhaustiveFeatureSelector).\n",
    "\n",
    "However, usually this method is too computationally complex to use for some real word dataset (it's even not available in scikit-learn). To reduce complexity one can the following *greedy* heuristic:  tart with zero feature and find the one feature that maximizes a cross-validated score when the model is trained on this single feature. Once that first feature is selected, we repeat the procedure by adding a new feature to the set of selected features. It is possible to iterate until we hit (preselected) maximum number of features or until the quality of the model ceases to increase significantly between iterations.\n",
    "\n",
    "This algorithm can work in the opposite direction: instead of starting with no feature and greedily adding features, we start with all the features and greedily remove features from the set."
   ]
  },
  {
   "cell_type": "code",
   "execution_count": 28,
   "metadata": {},
   "outputs": [
    {
     "name": "stdout",
     "output_type": "stream",
     "text": [
      "Index(['mean radius', 'mean texture', 'mean perimeter', 'mean area',\n",
      "       'mean smoothness', 'mean concavity', 'mean concave points',\n",
      "       'texture error', 'smoothness error', 'concavity error',\n",
      "       'symmetry error', 'worst radius', 'worst texture', 'worst perimeter',\n",
      "       'worst smoothness'],\n",
      "      dtype='object')\n",
      "Original shape: (569, 30)\n",
      "Shape after selection: (569, 10)\n",
      "\n",
      "Result on original data: 0.975423\n",
      "Result after selection 0.980686\n"
     ]
    }
   ],
   "source": [
    "selector = SequentialFeatureSelector(main_model, scoring='accuracy', n_jobs=-1).fit(cancer_data_scaled, cancer_labels)\n",
    "cancer_data_scaled_pruned = selector.transform(cancer_data_scaled)\n",
    "\n",
    "print(cancer_data.columns[selector.get_support()])\n",
    "print(f'Original shape: {cancer_data.shape}')\n",
    "print(f'Shape after selection: {cancer_data_pruned.shape}\\n')\n",
    "\n",
    "print('Result on original data: {:f}'.format(cross_val_score(main_model, cancer_data_scaled, \n",
    "                                                           cancer_labels, scoring='accuracy', cv=5).mean()))\n",
    "\n",
    "print('Result after selection {:f}'.format(cross_val_score(main_model, cancer_data_scaled_pruned, \n",
    "                                                        cancer_labels, scoring='accuracy', cv=5).mean()))"
   ]
  },
  {
   "cell_type": "markdown",
   "metadata": {},
   "source": [
    "# Homework"
   ]
  },
  {
   "cell_type": "markdown",
   "metadata": {},
   "source": [
    "## Exercise  1 - Scaling (3 points)"
   ]
  },
  {
   "cell_type": "markdown",
   "metadata": {},
   "source": [
    "Perform standardization for wine dataset (`wine_data`) using only basic python, numpy and pandas (without using `StandardScaler` and sklearn at all). Implementation of function (or class) that can get dataset as input and return standardized dataset as output is preferrable, but not necessary.\n",
    "\n",
    "Compare you results (output) with `StandardScaler`.\n",
    "\n",
    "**NOTE:**\n",
    "\n",
    "1) 1.5 points is for correct wine dataset standardization and another 1.5 points is for implementation of standardization function, that is working in more general case.\n",
    "\n",
    "2) \"General case\" doesn't mean, that you need to handle some/all really \"specific\" cases (datasets with missing/categorial variables, very large dataset, etc). Let's assume that it should work with numeric datasets of reasonable shape: showing the output for one or two randomly generated 10x10 dataset and comparing the results with `StandardScaler` should be enough (or you can be more creative).\n",
    "\n"
   ]
  },
  {
   "cell_type": "code",
   "execution_count": 81,
   "metadata": {},
   "outputs": [
    {
     "data": {
      "text/plain": [
       "[array([ 1.51861254, -0.5622498 ,  0.23205254, -1.16959318,  1.91390522,\n",
       "         0.80899739,  1.03481896, -0.65956311,  1.22488398,  0.25171685,\n",
       "         0.36217728,  1.84791957,  1.01300893]),\n",
       " array([ 0.24628963, -0.49941338, -0.82799632, -2.49084714,  0.01814502,\n",
       "         0.56864766,  0.73362894, -0.82071924, -0.54472099, -0.29332133,\n",
       "         0.40605066,  1.1134493 ,  0.96524152]),\n",
       " array([ 0.19687903,  0.02123125,  1.10933436, -0.2687382 ,  0.08835836,\n",
       "         0.80899739,  1.21553297, -0.49840699,  2.13596773,  0.26901965,\n",
       "         0.31830389,  0.78858745,  1.39514818]),\n",
       " array([ 1.69154964, -0.34681064,  0.4879264 , -0.80925118,  0.93091845,\n",
       "         2.49144552,  1.46652465, -0.98187536,  1.03215473,  1.18606801,\n",
       "        -0.42754369,  1.18407144,  2.33457383]),\n",
       " array([ 0.29570023,  0.22769377,  1.84040254,  0.45194578,  1.28198515,\n",
       "         0.80899739,  0.66335127,  0.22679555,  0.40140444, -0.31927553,\n",
       "         0.36217728,  0.44960118, -0.03787401]),\n",
       " array([ 1.48155459, -0.51736664,  0.30515936, -1.28970717,  0.86070511,\n",
       "         1.56209322,  1.36612798, -0.17609475,  0.66421706,  0.73186953,\n",
       "         0.40605066,  0.33660575,  2.23903902]),\n",
       " array([ 1.71625494, -0.4186237 ,  0.30515936, -1.46987817, -0.26270834,\n",
       "         0.32829793,  0.49267693, -0.49840699,  0.6817379 ,  0.08301456,\n",
       "         0.2744305 ,  1.36768901,  1.72952002]),\n",
       " array([ 1.3086175 , -0.16727801,  0.89001391, -0.56902319,  1.49262517,\n",
       "         0.48853108,  0.48263726, -0.41782893, -0.59728351, -0.00349944,\n",
       "         0.44992405,  1.36768901,  1.74544249]),\n",
       " array([ 2.25977152, -0.62508622, -0.7183361 , -1.65004916, -0.192495  ,\n",
       "         0.80899739,  0.95450162, -0.57898505,  0.6817379 ,  0.06138606,\n",
       "         0.53767082,  0.33660575,  0.94931905]),\n",
       " array([ 1.0615645 , -0.88540853, -0.352802  , -1.04947918, -0.12228166,\n",
       "         1.09741707,  1.12517596, -1.14303148,  0.45396697,  0.93517742,\n",
       "         0.23055711,  1.32531572,  0.94931905]),\n",
       " array([ 1.3580281 , -0.15830138, -0.24314178, -0.44890919,  0.36921172,\n",
       "         1.04934713,  1.29585031, -1.14303148,  1.38257156,  0.29929955,\n",
       "         1.28351841,  0.78858745,  2.43010864]),\n",
       " array([ 1.38273339, -0.76871232, -0.17003496, -0.80925118, -0.33292168,\n",
       "        -0.15240153,  0.40231992, -0.82071924, -0.03661659, -0.02512794,\n",
       "         0.93253131,  0.29423247,  1.69767508]),\n",
       " array([ 0.92568536, -0.54429654,  0.15894572, -1.04947918, -0.75420173,\n",
       "         0.48853108,  0.73362894, -0.57898505,  0.3838836 ,  0.23441405,\n",
       "         0.84478453,  0.40722789,  1.82505483]),\n",
       " array([ 2.16095032, -0.54429654,  0.0858389 , -2.43079014, -0.61377505,\n",
       "         1.28969686,  1.66731799,  0.5491078 ,  2.13596773,  0.14790005,\n",
       "         1.28351841,  0.16711262,  1.28369089]),\n",
       " array([ 1.70390229, -0.4186237 ,  0.0492855 , -2.25061915,  0.1585717 ,\n",
       "         1.61016317,  1.61711966, -0.57898505,  2.39878035,  1.05629702,\n",
       "         1.06415147,  0.54847218,  2.54793491]),\n",
       " array([ 0.77745356, -0.47248348,  1.21899459, -0.68913719,  0.86070511,\n",
       "         0.88911397,  0.88422395, -0.49840699, -0.22934584,  0.96978302,\n",
       "         1.41513857,  0.37897904,  1.79320989]),\n",
       " array([ 1.60508109, -0.37374054,  1.29210141,  0.15166079,  1.42241183,\n",
       "         0.80899739,  1.1151363 , -0.25667281,  0.66421706,  0.49395604,\n",
       "         0.49379744,  0.05411719,  1.69767508]),\n",
       " array([ 1.02450655, -0.68792264,  0.92656731,  0.15166079,  1.07134513,\n",
       "         1.04934713,  1.37616764,  0.30737361,  0.22619603,  0.66698403,\n",
       "         0.75703776, -0.05887823,  1.22000102]),\n",
       " array([ 1.46920194, -0.66996938,  0.41481959, -0.89933668,  0.57985175,\n",
       "         1.61016317,  1.90827001, -0.33725087,  0.47148781,  1.575381  ,\n",
       "         1.19577163,  0.29423247,  2.97147258]),\n",
       " array([ 0.78980621,  0.68550197,  0.70724686, -1.28970717,  1.14155847,\n",
       "         0.64876424,  1.00469996, -1.54592178,  0.12107098,  0.01812906,\n",
       "         0.01119018,  1.05695159,  0.3124203 ]),\n",
       " array([ 1.3086175 , -0.63406285, -0.3162486 , -1.04947918,  1.84369188,\n",
       "         1.1294637 ,  1.1452553 , -0.98187536,  0.891988  ,  0.25604255,\n",
       "         0.58154421,  1.55130658,  0.10542821]),\n",
       " array([-0.08723191,  1.31386618,  1.03622754, -0.2687382 ,  0.1585717 ,\n",
       "         0.18408809,  0.38224059, -0.9012973 ,  0.6817379 , -0.24141293,\n",
       "         0.31830389,  1.28294244,  0.07358327]),\n",
       " array([ 0.87627476, -0.42760033, -0.02382132, -0.86930818,  0.08835836,\n",
       "         0.5045544 ,  0.85410495, -0.74014117,  0.17363351, -0.54421192,\n",
       "         0.66929099,  1.96091499,  0.91747411]),\n",
       " array([-0.18605311, -0.66099274,  0.56103322, -0.50896619, -0.33292168,\n",
       "         0.2962513 ,  0.34208192, -0.82071924, -0.22934584, -0.48797782,\n",
       "         0.58154421,  1.43831115,  0.85378424]),\n",
       " array([ 0.61686912, -0.47248348,  0.89001391,  0.15166079, -0.26270834,\n",
       "         0.37636788,  0.58303393, -0.65956311,  0.12107098, -0.66533151,\n",
       "         0.71316437,  1.70667528,  0.3124203 ]),\n",
       " array([ 0.06099988, -0.25704433,  3.11977186,  1.65308575,  1.7032652 ,\n",
       "         0.53660103,  0.6533116 ,  0.87142004,  0.57661286, -0.63937732,\n",
       "         0.75703776,  0.83096074,  0.2646529 ]),\n",
       " array([ 0.48098997, -0.50839001,  0.92656731, -1.01945068, -0.47334836,\n",
       "         0.88911397,  0.91434295, -0.17609475, -0.24686669, -0.11164194,\n",
       "        -0.16430337,  0.8592096 ,  1.42699311]),\n",
       " array([ 0.36981612, -0.55327317, -0.82799632, -0.74919419, -0.40313502,\n",
       "         0.16806478,  0.16136791, -0.74014117, -0.4220751 , -0.47932642,\n",
       "         0.2744305 ,  0.22361033,  1.71359755]),\n",
       " array([ 1.07391715, -0.3916938 ,  1.58452868, -0.0285102 ,  0.50963841,\n",
       "         1.04934713,  0.94446195,  0.06563943,  0.2962794 , -0.24141293,\n",
       "         1.28351841,  1.1134493 ,  0.53533487]),\n",
       " array([ 1.2592069 , -0.58917969, -0.57212246, -1.04947918, -0.26270834,\n",
       "         0.56864766,  0.30192325, -0.82071924,  0.6817379 , -0.15489893,\n",
       "         0.36217728,  1.38181344,  0.91747411]),\n",
       " array([ 0.90098006, -0.75075906,  1.21899459,  0.90237327,  0.08835836,\n",
       "         1.1294637 ,  1.22557264, -0.57898505,  1.38257156,  0.27767105,\n",
       "         1.02027808,  0.13886376,  1.71359755]),\n",
       " array([ 0.71569031, -0.60713296, -0.02382132, -0.1185957 ,  0.43942506,\n",
       "         0.90513729,  1.16533463, -1.14303148,  0.62917538,  0.79675503,\n",
       "         0.58154421,  0.37897904,  2.44603111]),\n",
       " array([ 0.83921681, -0.45453022, -0.02382132, -0.68913719,  0.29899838,\n",
       "         0.20011141,  0.66335127,  0.46852973,  0.66421706, -0.52690912,\n",
       "         1.19577163,  0.36485461,  0.7741719 ]),\n",
       " array([ 9.38038007e-01, -7.23829165e-01,  1.21899459e+00,  1.51829490e-03,\n",
       "         2.26497192e+00,  1.04934713e+00,  7.13549607e-01,  1.11315422e+00,\n",
       "        -4.22075098e-01,  1.47900054e-01,  1.28351841e+00,  5.48472176e-01,\n",
       "         1.55437286e+00]),\n",
       " array([ 0.62922177, -0.48146012,  1.03622754, -0.1486242 ,  0.72027843,\n",
       "         0.0879482 ,  0.5027166 , -0.57898505, -0.08917911, -0.37118393,\n",
       "         0.6254176 ,  0.36485461,  1.10854374]),\n",
       " array([ 0.59216382, -0.47248348,  0.15894572,  0.30180329,  0.01814502,\n",
       "         0.64876424,  0.95450162, -0.82071924,  0.47148781,  0.01812906,\n",
       "         0.36217728,  1.2123203 ,  0.55125733]),\n",
       " array([ 0.34511082, -0.62508622,  1.73074231, -1.19962167,  0.72027843,\n",
       "         0.48853108,  0.6533116 , -0.17609475, -0.40455426, -0.19815593,\n",
       "         0.58154421,  0.23773476,  0.42387759]),\n",
       " array([ 0.06099988, -0.61610959,  0.67069345, -0.44890919, -0.12228166,\n",
       "         0.24818135,  0.40231992, -0.57898505, -0.26438753, -0.34955543,\n",
       "         0.71316437, -0.1436248 ,  1.14038868]),\n",
       " array([ 0.08570518, -0.75075906, -0.97420996, -1.19962167, -0.12228166,\n",
       "         0.16806478,  0.61315293, -0.65956311, -0.38703342, -0.58746892,\n",
       "         0.9764047 ,  0.1106149 ,  0.86970671]),\n",
       " array([ 1.50625989,  1.48442217,  0.52447981, -1.89027716,  1.98411856,\n",
       "         1.1294637 ,  1.01473962, -1.3041876 ,  0.85694632,  0.01812906,\n",
       "        -0.29592353,  1.29706687,  0.04173834]),\n",
       " array([ 0.69098501, -0.5622498 , -0.20658837, -0.98942218,  1.21177181,\n",
       "         1.36981344,  1.2657313 , -0.17609475,  1.31248819,  0.46367614,\n",
       "        -0.03268321,  1.08520045,  0.15319562]),\n",
       " array([ 0.50569527,  1.3497727 , -0.90110314, -0.2086812 , -0.68398839,\n",
       "         0.24818135,  0.6533116 , -0.74014117, -0.19430416, -0.33657833,\n",
       "        -0.20817676,  0.54847218,  0.91747411]),\n",
       " array([ 1.0862698 , -0.40067043,  0.81690709, -1.34976417,  0.08835836,\n",
       "         1.53004659,  1.53680232, -1.54592178,  0.19115435,  0.16087715,\n",
       "        -0.33979692,  1.33944015,  1.10854374]),\n",
       " array([ 0.29570023,  1.47544554, -0.27969519, -0.59905169,  0.22878504,\n",
       "         0.55262435,  0.60311327, -0.33725087,  0.12107098, -0.30197273,\n",
       "        -0.60303724,  0.54847218, -0.21302116]),\n",
       " array([ 0.06099988, -0.50839001, -0.97420996, -0.74919419,  0.50963841,\n",
       "         1.1294637 ,  0.97458095, -0.65956311,  0.76934211, -0.00782514,\n",
       "        -0.33979692,  1.04282716,  0.43980005]),\n",
       " array([ 1.49390724,  1.52930533,  0.26860595, -0.1786527 ,  0.79049177,\n",
       "         0.88911397,  0.6231926 , -0.49840699, -0.59728351,  0.07868886,\n",
       "        -0.38367031,  1.01457831,  1.06077633]),\n",
       " array([ 1.70390229,  1.12535692, -0.3162486 , -1.04947918,  0.1585717 ,\n",
       "         1.53004659,  1.1452553 , -0.74014117,  1.04967557, -0.06838494,\n",
       "         0.36217728,  1.16994702,  1.01300893]),\n",
       " array([ 1.1109751 , -0.58917969, -0.90110314, -1.04947918,  0.08835836,\n",
       "         1.28969686,  1.36612798, -1.22360954,  0.96207136,  0.45069904,\n",
       "        -0.20817676,  1.01457831,  0.75824943]),\n",
       " array([ 1.3580281 , -0.28397422,  0.12239231, -0.2086812 ,  0.22878504,\n",
       "         0.72888082,  0.89426362, -0.33725087,  1.38257156,  0.49395604,\n",
       "         0.49379744,  0.19536147,  0.99708646]),\n",
       " array([ 1.1603857 , -0.54429654, -0.352802  , -0.62908019,  0.57985175,\n",
       "         0.93718392,  1.51672298, -0.33725087,  0.85694632,  1.66189499,\n",
       "         0.71316437,  0.68971646,  1.63398521]),\n",
       " array([ 0.06099988, -0.54429654, -1.19353041, -2.13050515, -0.5435617 ,\n",
       "         0.68081087,  1.24565197, -1.54592178,  2.31117614,  0.92652602,\n",
       "         0.71316437,  0.42135232,  1.28369089]),\n",
       " array([ 1.02450655, -0.61610959,  0.8534605 , -0.68913719, -0.40313502,\n",
       "         0.24818135,  0.96454129, -1.14303148,  1.22488398,  0.23441405,\n",
       "         1.23964502,  1.07107602,  1.64990767]),\n",
       " array([ 1.01215391, -0.52634327,  0.19549913, -1.65004916,  0.79049177,\n",
       "         2.53951547,  1.71751633, -0.33725087,  0.48900865,  0.86164053,\n",
       "         0.23055711,  0.91570731,  1.41107064]),\n",
       " array([ 0.95039066, -0.3916938 ,  1.14588777, -0.71916569,  1.07134513,\n",
       "         1.1294637 ,  0.76374794,  0.22679555,  0.15611266,  0.53721304,\n",
       "         0.75703776,  0.44960118,  2.00020199]),\n",
       " array([ 0.91333271, -0.59815632, -0.42590882, -0.92936518,  1.28198515,\n",
       "         0.48853108,  0.87418428, -1.22360954,  0.05098762,  0.34255655,\n",
       "        -0.16430337,  0.83096074,  0.99708646]),\n",
       " array([ 0.69098501, -0.54429654,  0.34171277,  0.30180329,  1.14155847,\n",
       "         1.06537044,  0.75370828, -1.3041876 ,  1.50521744,  0.51558454,\n",
       "         0.09893695,  0.59084546,  1.18815608]),\n",
       " array([ 1.50625989, -0.57122643, -0.24314178, -0.95939368,  1.28198515,\n",
       "         1.44993001,  0.97458095, -0.82071924,  0.76934211,  0.57181864,\n",
       "        -0.0765566 ,  0.98632945,  0.71048202]),\n",
       " array([ 0.35746347, -0.32885738,  1.14588777, -0.80925118,  0.1585717 ,\n",
       "         1.1294637 ,  1.2054933 , -0.41782893,  0.12107098,  0.40744204,\n",
       "         0.49379744,  0.32248133,  1.66583014]),\n",
       " array([ 0.88862741, -0.81359548,  0.4879264 , -0.83927968,  0.57985175,\n",
       "         1.77039632,  1.64723866, -1.38476566,  0.78686295,  0.75349803,\n",
       "        -0.29592353,  0.36485461,  1.71359755]),\n",
       " array([-0.77898029, -1.25345042, -3.67916223, -2.67101814, -0.82441507,\n",
       "        -0.50491447, -1.46505818, -0.65956311, -2.05151334, -1.34446639,\n",
       "         0.40605066, -1.11821035, -0.72254016]),\n",
       " array([-0.82839089, -1.10982432, -0.3162486 , -1.04947918,  0.08835836,\n",
       "        -0.39275127, -0.94299548,  2.16066901, -2.06903418, -0.77347401,\n",
       "         1.28351841, -1.33007677, -0.21302116]),\n",
       " array([-0.44545875, -0.8764319 , -1.26663723, -0.80925118,  0.01814502,\n",
       "        -0.44082121, -0.62172613,  1.3548884 , -1.70109651,  0.29929955,\n",
       "         0.09893695, -1.44307219, -0.94545472]),\n",
       " array([ 0.82686416, -0.97517485, -1.63217132, -0.44890919, -0.40313502,\n",
       "        -0.31263469, -0.24021878, -0.33725087, -1.50836726, -0.54421192,\n",
       "         1.19577163, -0.21424694, -0.37224585]),\n",
       " array([-0.77898029, -1.08289442, -0.75488951, -0.1486242 , -0.89462841,\n",
       "         1.93062948,  1.07497763, -1.38476566,  0.48900865, -0.26304143,\n",
       "         1.15189824,  0.36485461, -1.04098953]),\n",
       " array([-1.02603329, -0.79564222,  0.59758663, -0.1486242 ,  0.29899838,\n",
       "        -0.64912431, -0.28037745,  0.71026392, -0.98274202, -0.9118964 ,\n",
       "         2.16098615, -0.53910879, -1.24798163]),\n",
       " array([-0.77898029, -1.01108137,  0.70724686, -0.41888069, -0.12228166,\n",
       "         0.20011141,  0.6231926 ,  0.06563943,  0.85694632, -0.19815593,\n",
       "         1.02027808, -0.44023779, -0.21939015]),\n",
       " array([ 0.13511578, -1.190614  , -2.43634632, -1.34976417, -1.52654847,\n",
       "         1.09741707,  1.15529496, -0.82071924,  1.20736314,  0.10464306,\n",
       "         0.71316437,  0.80271188, -0.77986105]),\n",
       " array([-0.77898029, -1.0469879 , -1.63217132,  0.03154679, -1.52654847,\n",
       "        -0.29661137, -0.02938577, -0.74014117, -0.96522118, -0.16355033,\n",
       "         0.71316437,  1.22644473, -0.7543851 ]),\n",
       " array([ 0.41922672, -1.25345042, -0.02382132, -0.74919419,  0.72027843,\n",
       "         0.37636788, -0.73216247,  1.51604452, -2.05151334, -0.81673101,\n",
       "         0.2744305 , -0.96284164,  0.0098934 ]),\n",
       " array([-0.97662269, -1.02903463, -2.25357928, -0.80925118,  3.59902539,\n",
       "        -0.71321758, -0.75224181, -1.78765596,  1.59282165, -0.9551534 ,\n",
       "         1.41513857,  0.64734317, -0.0920104 ]),\n",
       " array([-0.87780149, -0.65201611, -0.57212246,  0.27177479,  0.22878504,\n",
       "        -1.91496624, -1.01327316,  0.06563943, -0.22934584, -0.86863941,\n",
       "        -0.22572611, -1.11821035,  0.39203265]),\n",
       " array([ 1.0615645 , -0.74178243,  1.10933436,  1.65308575, -0.96484175,\n",
       "         1.04934713,  0.83402561, -1.22360954,  0.48900865, -0.72589131,\n",
       "         1.76612566,  0.77446303, -1.07283447]),\n",
       " array([ 0.60451647, -0.60713296, -0.46246223,  1.35280076, -0.89462841,\n",
       "        -0.66514763, -0.19002044, -0.74014117, -0.98274202, -0.57016612,\n",
       "         0.09893695,  0.23773476, -0.87539586]),\n",
       " array([-0.01311602, -0.59815632,  0.8534605 ,  3.15451071,  2.75646531,\n",
       "         1.61016317,  0.86414462, -1.22360954,  0.64669622, -0.73886841,\n",
       "         1.54675873,  1.25469358,  0.75824943]),\n",
       " array([-1.28543893, -1.11880095, -0.24314178,  0.45194578,  0.08835836,\n",
       "         1.73834969,  0.11116957, -1.86823402,  0.10355014, -0.79942821,\n",
       "         0.14281034,  0.73208974,  0.44298455]),\n",
       " array([-1.65601842, -0.40964706, -1.63217132, -1.04947918, -0.192495  ,\n",
       "        -1.09777715, -0.46109146, -0.17609475, -0.77249192, -0.54421192,\n",
       "         1.19577163, -0.66622864, -1.01551358]),\n",
       " array([ 3.62945830e-02, -1.28935695e+00, -2.39979292e+00, -1.04947918e+00,\n",
       "        -9.64841748e-01, -5.52984421e-01,  7.33234123e-04, -9.81875357e-01,\n",
       "        -2.29345844e-01, -1.98155932e-01,  1.02027808e+00, -1.85998088e-01,\n",
       "        -1.13015536e+00]),\n",
       " array([-1.43367073,  0.49699271, -0.49901564, -0.44890919,  0.86070511,\n",
       "        -0.92152068, -0.71208314,  0.5491078 , -1.12290875, -1.0416674 ,\n",
       "         0.01119018, -0.12950037, -0.78623004]),\n",
       " array([-0.82839089, -1.20856726, -1.5225111 , -1.40982117,  2.54582528,\n",
       "        -0.633101  , -0.17998078, -0.09551669,  2.04836353, -0.71723991,\n",
       "         0.44992405, -0.42611337,  0.0098934 ]),\n",
       " array([-0.37134286,  1.3767026 ,  0.12239231,  1.05251577,  0.08835836,\n",
       "         0.85706734,  0.52279593,  0.5491078 ,  0.62917538, -1.076273  ,\n",
       "         1.02027808,  0.73208974, -0.9040563 ]),\n",
       " array([-1.23602833, -1.27140368, -1.33974405, -0.1486242 , -0.96484175,\n",
       "         0.20011141,  0.23164558, -0.49840699, -0.28190837, -1.1065529 ,\n",
       "         1.85387244,  0.71796531, -1.49318765]),\n",
       " array([-0.34663756, -0.47248348, -0.60867587, -0.2086812 , -0.96484175,\n",
       "        -0.15240153,  0.5027166 , -0.82071924,  0.31380024, -0.50095492,\n",
       "         0.88865792,  0.74621417, -0.10474838]),\n",
       " array([-1.13720713, -1.08289442,  0.52447981,  1.35280076, -1.52654847,\n",
       "        -0.47286784, -0.45105179,  0.30737361, -0.33447089, -1.23632389,\n",
       "         1.54675873,  0.15298819, -0.37224585]),\n",
       " array([ 0.06099988,  1.36772596, -0.17003496,  0.90237327, -1.03505509,\n",
       "        -1.03368389, -0.44101212,  1.99951289,  0.05098762, -0.11164194,\n",
       "        -0.51529047, -0.84984621, -0.73846263]),\n",
       " array([-1.43367073, -1.29833358,  0.78035368, -0.44890919, -0.40313502,\n",
       "        -0.15240153,  0.18144724, -1.14303148,  1.33000903, -0.86863941,\n",
       "        -0.7346574 ,  0.6614676 , -0.72254016]),\n",
       " array([-0.4084008 , -1.21754389, -0.46246223, -0.44890919, -0.05206832,\n",
       "        -0.15240153, -0.08962377, -0.49840699, -0.22934584, -1.0546445 ,\n",
       "         1.19577163,  0.77446303, -0.94545472]),\n",
       " array([-1.03838594, -0.65201611, -0.20658837,  0.99245877, -0.68398839,\n",
       "        -0.82538078, -0.34061545,  0.5491078 , -0.05413743, -1.1281814 ,\n",
       "         1.6345055 , -0.49673551, -0.8021525 ]),\n",
       " array([-1.66837107, -0.59815632,  0.92656731,  1.95337074, -0.82441507,\n",
       "        -0.60105437, -0.42093279,  0.30737361, -0.43959594, -1.0632959 ,\n",
       "         1.76612566,  0.84508517, -0.58879142]),\n",
       " array([-1.68072372, -0.2480677 ,  0.34171277,  0.63211678, -1.10526843,\n",
       "        -0.55298442, -0.34061545,  0.9519981 , -0.4220751 , -0.9767819 ,\n",
       "         0.18668373,  0.19536147, -0.21302116]),\n",
       " array([-1.13720713, -0.90336179, -0.24314178,  1.23268676, -2.0882552 ,\n",
       "        -0.15240153, -0.44101212,  0.46852973, -0.36951257, -1.43530608,\n",
       "         0.49379744,  0.84508517, -0.38816832]),\n",
       " array([-1.13720713, -0.45453022, -0.17003496, -0.2987667 , -1.31590845,\n",
       "        -1.11380046, -0.53136913,  1.27431034,  0.0860293 , -1.14980989,\n",
       "         0.53767082, -0.48261108, -0.84991991]),\n",
       " array([-1.23602833, -0.74178243,  0.19549913,  0.75223078, -0.96484175,\n",
       "        -1.3541502 , -0.78236081,  1.11315422,  0.06850846, -0.63072592,\n",
       "         0.40605066,  0.05411719, -0.94545472]),\n",
       " array([-0.38369551, -0.72382916, -0.38935541,  0.36186029, -1.38612179,\n",
       "        -1.4663134 , -0.5715278 ,  1.7577787 ,  0.05098762, -0.86863941,\n",
       "         0.01119018, -0.77922407, -0.8021525 ]),\n",
       " array([-0.87780149,  0.44313292, -0.53556905, -0.44890919, -0.82441507,\n",
       "         0.24818135,  0.22160591, -0.9012973 ,  0.69925874, -1.25795239,\n",
       "         0.84478453,  0.97220502, -1.45497372]),\n",
       " array([-1.70542902, -0.31090412, -0.3162486 , -0.44890919, -0.12228166,\n",
       "         1.16151034,  0.23164558, -1.54592178, -0.4220751 , -0.78212541,\n",
       "         0.88865792,  0.49197446, -1.27982657]),\n",
       " array([-0.6554538 , -0.7328058 , -0.60867587, -0.1486242 ,  4.37137214,\n",
       "         0.32829793,  0.24168525, -0.33725087,  2.95944727, -1.0632959 ,\n",
       "         0.88865792,  0.02586833,  0.60539373]),\n",
       " array([-1.47072867, -0.19420791,  1.36520822,  0.60208828,  2.4053986 ,\n",
       "        -1.11380046, -1.04339216, -1.78765596, -0.05413743, -1.1065529 ,\n",
       "        -0.03268321, -0.49673551, -0.38816832]),\n",
       " array([-0.87780149, -0.83154874, -1.41285087, -1.04947918, -1.03505509,\n",
       "         0.40841451,  0.47259759, -0.57898505,  0.31380024, -0.9335249 ,\n",
       "         1.19577163,  0.18123704, -1.01551358]),\n",
       " array([-0.77898029, -1.13675421, -0.97420996, -0.2987667 , -0.82441507,\n",
       "         1.96267611,  1.727556  , -0.98187536,  0.62917538, -0.24141293,\n",
       "         0.36217728,  0.22361033, -0.27671104]),\n",
       " array([-0.87780149,  0.74833839, -0.57212246, -0.44890919, -0.82441507,\n",
       "         0.88911397,  0.96454129,  0.71026392,  2.13596773, -1.19306689,\n",
       "         2.02936599,  0.3083569 , -1.08557245]),\n",
       " array([-1.13720713, -0.23011443, -2.43634632, -0.59905169, -0.192495  ,\n",
       "        -0.10433159,  0.14128858, -0.82071924, -0.33447089, -0.76049691,\n",
       "         1.37126518,  0.49197446, -0.11748635]),\n",
       " array([-0.49486935, -0.89438516, -1.70527814, -0.2987667 , -0.82441507,\n",
       "        -1.3541502 , -0.67192447, -0.57898505, -0.4220751 , -1.1281814 ,\n",
       "         0.36217728,  0.22361033, -0.58879142]),\n",
       " array([-0.81603824,  0.10202093,  0.34171277,  0.45194578, -0.12228166,\n",
       "         0.42443782,  0.08105057, -0.17609475, -0.49215846, -0.9767819 ,\n",
       "        -0.69078402,  1.08520045, -0.98366865]),\n",
       " array([-1.45837602e+00, -5.53273167e-01, -1.77838496e+00,  1.51829490e-03,\n",
       "        -9.64841748e-01,  3.28297930e-01, -3.90813788e-01,  6.56394314e-02,\n",
       "        -2.99429209e-01, -1.29688369e+00, -7.65565958e-02, -2.42495800e-01,\n",
       "        -1.05691200e+00]),\n",
       " array([-0.6060432 , -0.54429654, -1.41285087,  0.30180329, -1.03505509,\n",
       "        -0.15240153, -0.10970311, -0.33725087, -0.19430416, -0.9162221 ,\n",
       "         0.36217728,  1.35356458, -0.23849711]),\n",
       " array([-0.71721705,  0.19178724, -0.352802  ,  0.75223078, -0.68398839,\n",
       "        -0.98561394, -0.19002044,  2.40240319, -0.29942921, -1.0200389 ,\n",
       "        -0.42754369,  0.97220502, -1.37536138]),\n",
       " array([-9.27212090e-01, -5.44296535e-01, -9.01103141e-01, -1.48624201e-01,\n",
       "        -1.38612179e+00, -1.03368389e+00,  7.33234123e-04,  6.56394314e-02,\n",
       "         6.85084581e-02, -7.17239912e-01,  1.86683727e-01,  7.88587455e-01,\n",
       "        -7.54385098e-01]),\n",
       " array([-0.34663756, -0.52634327, -0.3162486 ,  0.90237327, -1.10526843,\n",
       "        -1.4663134 , -0.27033778,  0.9519981 ,  0.06850846, -0.76049691,\n",
       "        -0.33979692, -0.27074466, -0.82444396]),\n",
       " array([-0.96427004, -0.93926832, -1.55906451, -0.1486242 , -0.5435617 ,\n",
       "         0.10397151,  0.0107729 ,  0.22679555,  0.85694632, -1.0200389 ,\n",
       "        -0.42754369,  0.57672103, -1.38491486]),\n",
       " array([-1.71778167, -0.88540853,  1.21899459,  0.15166079, -0.40313502,\n",
       "         0.7128575 ,  0.89426362, -0.57898505,  1.57530081, -1.0416674 ,\n",
       "         0.01119018,  0.91570731, -0.21302116]),\n",
       " array([-1.90307141e+00,  1.26000639e+00, -1.99770541e+00,  1.51829490e-03,\n",
       "         5.09638405e-01,  1.41788338e+00,  5.52914931e-01, -9.81875357e-01,\n",
       "         3.48507251e+00, -9.33524903e-01, -9.10150952e-01,  2.80108041e-01,\n",
       "        -5.88791424e-01]),\n",
       " array([-0.59369055,  0.08406767, -0.7183361 ,  0.45194578, -0.82441507,\n",
       "         0.40841451,  0.24168525, -0.82071924, -0.64984604, -1.32283789,\n",
       "        -0.25205014,  0.23773476, -1.34351644]),\n",
       " array([-1.53249192e+00,  3.08483453e-01,  2.02316959e+00,  1.51660791e-01,\n",
       "         2.28785042e-01, -8.73450731e-01,  7.33234123e-04,  1.91893483e+00,\n",
       "        -9.47700337e-01, -5.44211919e-01,  1.19577163e+00, -1.57749231e-01,\n",
       "        -4.45489206e-01]),\n",
       " array([-1.96483466, -1.43298305,  0.4879264 ,  0.45194578, -0.82441507,\n",
       "         0.2962513 , -0.0193461 ,  0.46852973, -0.26438753, -0.85566231,\n",
       "         0.6254176 , -0.42611337, -0.99640662]),\n",
       " array([-1.13720713, -0.849502  ,  0.4879264 ,  0.90237327, -1.10526843,\n",
       "         0.42443782,  0.26176458,  0.5491078 , -0.96522118, -0.9335249 ,\n",
       "        -0.12042998,  0.81683631, -1.15244682]),\n",
       " array([-2.43423535, -0.74178243, -0.60867587,  0.60208828, -1.03505509,\n",
       "         0.26420467,  0.14128858,  1.27431034,  0.73430043, -1.36609489,\n",
       "         3.30169422,  0.36485461, -1.08238795]),\n",
       " array([-1.45837602, -0.77768895, -1.37629746,  0.39188878, -0.96484175,\n",
       "        -0.50491447, -0.43097246, -0.49840699, -0.10669995, -1.34446639,\n",
       "        -0.03268321,  1.01457831, -0.8021525 ]),\n",
       " array([-0.71721705, -0.65201611, -0.64522928,  0.90237327,  0.57985175,\n",
       "        -0.47286784,  0.06097124, -0.17609475,  0.03346678, -1.29688369,\n",
       "         0.44992405,  0.49197446, -1.27982657]),\n",
       " array([-0.28487431,  0.98173081, -1.41285087, -1.04947918, -1.38612179,\n",
       "        -1.06573052, -0.78236081,  0.5491078 , -1.33315885, -0.71723991,\n",
       "        -1.12951789, -0.6944775 , -1.19384523]),\n",
       " array([-1.23602833,  0.98173081, -1.33974405, -0.1486242 , -0.89462841,\n",
       "        -0.47286784, -0.39081379,  0.06563943,  0.48900865, -1.63428828,\n",
       "        -0.12042998,  0.61909432, -0.58242244]),\n",
       " array([-1.91542406,  0.05713777,  0.19549913,  0.15166079, -0.26270834,\n",
       "         0.96923055,  0.76374794, -0.33725087,  0.41892528, -0.78212541,\n",
       "        -0.69078402,  1.09932487, -0.38816832]),\n",
       " array([-1.77954492, -0.25704433,  3.15632527,  2.70408323,  1.35219849,\n",
       "         1.41788338,  3.06283174,  0.87142004,  0.48900865,  0.40744204,\n",
       "        -0.12042998,  1.52305772, -0.89768732]),\n",
       " array([-0.71721705,  1.87939396,  1.32865481,  2.10351324,  0.1585717 ,\n",
       "        -0.15240153,  0.10112991,  0.5491078 ,  0.20867519, -1.28823229,\n",
       "        -0.16430337,  0.71796531, -1.21613669]),\n",
       " array([ 0.06099988,  3.10919247, -0.86454973,  0.60208828, -0.96484175,\n",
       "         0.52057772,  0.6231926 , -0.49840699,  0.73430043, -1.0632959 ,\n",
       "        -0.99789773,  0.68971646, -1.16836928]),\n",
       " array([-1.39661278,  1.77167438,  0.0858389 ,  0.45194578, -1.24569511,\n",
       "         0.90513729,  1.00469996, -1.22360954,  2.31117614, -0.9767819 ,\n",
       "        -0.91015095,  1.45243558, -1.16836928]),\n",
       " array([-1.14955978, -0.15830138, -0.7183361 ,  0.45194578, -1.03505509,\n",
       "         0.48853108,  0.6231926 ,  0.06563943, -0.4220751 , -0.9940847 ,\n",
       "        -0.42754369,  0.94395616, -1.17473827]),\n",
       " array([-0.7048644 , -0.72382916, -0.27969519,  0.60208828, -0.96484175,\n",
       "         0.7128575 ,  1.12517596,  0.22679555,  0.31380024, -0.48365212,\n",
       "        -1.17339127,  0.32248133, -1.25753511]),\n",
       " array([-1.49543397, -0.18523128,  1.51142186,  2.70408323, -0.5435617 ,\n",
       "        -0.26456474,  0.21156625,  1.7577787 ,  0.2962794 , -0.89026791,\n",
       "         0.05506357, -0.2424958 , -0.89450282]),\n",
       " array([-0.77898029, -0.63406285, -0.24314178,  1.50294326, -0.82441507,\n",
       "        -0.1203549 ,  0.42239926,  0.30737361,  0.54157117, -1.27092949,\n",
       "        -0.29592353,  0.23773476, -1.28938005]),\n",
       " array([-1.18661773,  1.76269775,  0.0492855 ,  0.75223078, -1.38612179,\n",
       "        -0.31263469, -0.28037745,  0.46852973, -0.4220751 , -1.0632959 ,\n",
       "        -0.7346574 , -0.05887823, -0.53147054]),\n",
       " array([-0.17370046, -0.88540853, -0.17003496, -0.44890919,  1.56283851,\n",
       "        -1.2580103 , -0.78236081, -1.22360954, -1.14042959, -0.41444092,\n",
       "        -0.86627756, -1.86680504, -0.37224585]),\n",
       " array([-0.14899516,  0.58675903,  0.12239231,  0.15166079,  0.29899838,\n",
       "        -1.59449993, -0.81247981, -0.98187536, -1.33315885,  0.14790005,\n",
       "        -0.95402434, -1.68318747, -0.69069522]),\n",
       " array([-0.23546371, -0.02365191,  0.12239231,  1.35280076, -0.12228166,\n",
       "        -1.83484966, -0.94299548, -0.74014117, -1.33315885,  0.27767105,\n",
       "        -1.30501144, -1.76793404, -0.59516041]),\n",
       " array([-0.37134286,  1.08945039, -0.02382132,  0.60208828,  0.43942506,\n",
       "        -0.95356731, -0.83255915, -1.54592178, -1.315638  , -0.02512794,\n",
       "        -0.77853079, -1.86680504, -0.46778066]),\n",
       " array([-0.6060432 , -0.98415148, -0.42590882, -0.59905169, -1.03505509,\n",
       "        -0.47286784, -1.45501851,  1.91893483, -0.59728351,  0.16952855,\n",
       "        -0.91015095, -1.55606762, -0.30855597]),\n",
       " array([-0.49486935,  0.11099756, -0.60867587, -0.2987667 , -0.40313502,\n",
       "        -1.08175383, -1.37470118,  2.16066901, -1.14042959,  0.88326902,\n",
       "        -0.99789773, -1.45719662, -0.16525376]),\n",
       " array([-0.92721209,  2.13971627,  0.63414004,  0.45194578, -0.75420173,\n",
       "        -1.4663134 , -1.56545485,  1.3548884 , -1.38572137, -0.52258342,\n",
       "        -0.91015095, -1.89505389, -0.08564141]),\n",
       " array([-0.5813379 ,  2.84887015,  0.99967413,  1.65308575, -0.26270834,\n",
       "        -0.80935747, -1.43493918,  2.16066901, -0.86009613, -0.02512794,\n",
       "        -0.60303724, -1.30182791, -0.73846263]),\n",
       " array([ 6.04516467e-01,  1.12535692e+00, -6.45229278e-01,  1.51829490e-03,\n",
       "        -8.24415067e-01, -1.08175383e+00, -1.55541519e+00,  1.75777870e+00,\n",
       "        -1.24555464e+00,  2.77671049e-01, -6.46910629e-01, -1.11821035e+00,\n",
       "        -5.31470536e-01]),\n",
       " array([-0.19840576,  0.55982913,  0.89001391,  1.35280076,  0.08835836,\n",
       "         0.03987825, -1.43493918,  1.3548884 , -1.36820053, -0.05973354,\n",
       "        -0.29592353, -0.65210422, -0.4996256 ]),\n",
       " array([-0.08723191,  0.42517966,  1.21899459,  0.45194578, -0.26270834,\n",
       "        -1.20994036, -1.53533585,  1.3548884 , -1.47332558, -0.19815593,\n",
       "        -0.82240418, -0.42611337, -0.46778066]),\n",
       " array([ 0.44393202,  0.20076388, -0.06037473,  0.15166079, -0.75420173,\n",
       "        -1.43426677, -1.53533585,  0.06563943, -1.66605483,  0.23441405,\n",
       "        -1.12951789, -0.20012252,  0.10542821]),\n",
       " array([ 0.64157442,  0.74833839,  1.29210141,  1.20265826, -0.192495  ,\n",
       "        -1.19391704, -1.51525652,  1.11315422, -1.8237424 , -0.30629843,\n",
       "        -0.29592353, -0.77922407, -0.72254016]),\n",
       " array([ 0.76510091,  2.34617879, -0.06037473,  0.15166079, -0.5435617 ,\n",
       "        -0.47286784, -1.23414583,  0.87142004, -1.00026286, -0.28466993,\n",
       "        -0.20817676, -0.7933485 , -0.62700535]),\n",
       " array([-0.92721209,  1.38567923, -0.60867587, -0.2987667 ,  0.86070511,\n",
       "        -1.4663134 , -1.25422517, -0.57898505, -0.79001277,  1.36342171,\n",
       "        -1.34888482, -0.86397064,  0.34426524]),\n",
       " array([ 0.19687903,  1.10740365, -0.79144291,  0.45194578,  0.1585717 ,\n",
       "        -1.27403362, -1.48513751,  0.5491078 , -0.5096793 , -0.45769792,\n",
       "        -1.56825176, -1.31595234,  0.2646529 ]),\n",
       " array([ 1.0862698 ,  2.42696848, -0.49901564,  0.15166079, -1.38612179,\n",
       "        -2.10724602, -1.69597053,  0.30737361, -1.59597147, -0.06838494,\n",
       "        -1.65599853, -1.81030733, -1.056912  ]),\n",
       " array([-0.16134781,  2.04097332,  0.41481959,  0.60208828, -0.96484175,\n",
       "        -0.95356731, -1.38474084,  0.87142004, -1.28059632,  1.12118252,\n",
       "        -1.83149208, -1.06171263, -0.38816832]),\n",
       " array([ 0.39452142,  0.81117481,  0.0492855 ,  0.60208828, -0.5435617 ,\n",
       "        -0.58503105, -1.2743045 ,  0.71026392, -0.59728351,  1.4542614 ,\n",
       "        -1.78761869, -1.40069891, -0.30855597]),\n",
       " array([ 0.09805783,  1.40363249, -0.02382132,  0.60208828,  0.93091845,\n",
       "        -1.41824346, -0.64180547, -0.17609475, -0.79001277,  1.87817999,\n",
       "        -1.69987192, -1.81030733, -0.62700535]),\n",
       " array([ 0.61686912,  0.70345524,  0.92656731,  1.35280076,  1.63305186,\n",
       "        -1.43426677, -0.46109146, -1.14303148, -0.59728351,  1.532124  ,\n",
       "        -1.61212515, -1.85268061, -0.78623004]),\n",
       " array([-0.26016901,  0.29950682,  0.41481959,  0.75223078,  0.86070511,\n",
       "        -1.30608025, -0.67192447, -0.98187536, -0.57976267,  2.48377796,\n",
       "        -2.09473241, -1.61256533, -0.84991991]),\n",
       " array([ 0.13511578, -0.3916938 ,  1.40176163,  1.80322825,  1.14155847,\n",
       "        -0.15240153, -0.75224181, -0.82071924, -0.05413743,  0.88326902,\n",
       "        -1.52437837, -1.81030733, -1.02506707]),\n",
       " array([ 0.28334758,  0.8650346 , -0.3162486 , -0.2987667 , -0.12228166,\n",
       "        -0.79333415, -1.20402683,  1.99951289,  0.48900865,  2.36265837,\n",
       "        -1.74374531, -1.55606762, -0.22894363]),\n",
       " array([-0.51957465, -0.93926832, -0.97420996,  0.15166079,  0.22878504,\n",
       "        -1.30608025, -1.45501851,  1.3548884 , -0.33447089,  1.09955402,\n",
       "        -1.65599853, -1.49956991, -0.34040091]),\n",
       " array([ 0.20923168,  2.56161795, -0.17003496,  0.75223078, -0.47334836,\n",
       "        -0.88947405, -1.40482018,  1.99951289, -0.07165827,  1.22932501,\n",
       "        -1.56825176, -1.5984409 , -0.06971894]),\n",
       " array([ 1.03685920e+00,  1.60111838e+00,  4.92854954e-02,  1.51829490e-03,\n",
       "        -7.54201726e-01, -7.93334154e-01, -1.20402683e+00,  9.51998098e-01,\n",
       "        -5.41374310e-02,  1.70947769e+00, -1.69987192e+00, -1.37245005e+00,\n",
       "        -8.49919910e-01]),\n",
       " array([-0.6801591 ,  0.62266555,  0.99967413,  2.25365574, -0.192495  ,\n",
       "        -0.633101  , -1.45501851,  2.16066901, -0.79001277,  1.05629702,\n",
       "        -1.26113805, -1.2453302 ,  0.42387759]),\n",
       " array([ 1.65449169, -0.58917969,  1.21899459,  1.65308575, -0.12228166,\n",
       "         0.80899739, -0.72212281,  1.3548884 ,  1.94323848,  3.43543192,\n",
       "        -1.69987192, -0.92046835, -0.27671104]),\n",
       " array([ 0.59216382, -0.59815632,  0.99967413,  0.90237327, -0.75420173,\n",
       "         0.48853108, -0.93295582,  1.27431034,  1.22488398,  2.89471945,\n",
       "        -1.69987192, -1.17470806, -0.40409079]),\n",
       " array([-0.79133294,  1.34079607,  0.0492855 ,  0.45194578, -0.82441507,\n",
       "         0.00783162, -1.11366983,  1.11315422, -0.96522118,  1.12118252,\n",
       "        -1.74374531, -1.45719662, -0.72254016]),\n",
       " array([ 0.85156946,  0.82912808,  0.63414004,  0.15166079,  0.50963841,\n",
       "        -0.74526421, -1.47509785,  1.11315422, -1.38572137,  0.35553365,\n",
       "         0.01119018, -1.11821035, -0.21302116]),\n",
       " array([-0.18605311,  0.83810471,  0.78035368,  0.75223078,  0.43942506,\n",
       "        -1.03368389, -1.43493918,  1.91893483, -1.10538791,  0.22576265,\n",
       "        -0.38367031, -0.70860193, -0.56331547]),\n",
       " array([-0.05017396,  0.99968408, -0.06037473, -0.2987667 ,  0.43942506,\n",
       "        -1.45029009, -1.33454251,  0.30737361, -1.14042959,  0.09599166,\n",
       "        -1.21726466, -1.21708134, -0.22894363]),\n",
       " array([ 0.96274331,  0.3802965 , -0.24314178,  0.75223078, -0.68398839,\n",
       "        -1.51438335, -1.35462184,  0.38795167, -0.98274202,  1.95604258,\n",
       "        -1.12951789, -1.31595234, -0.42001326]),\n",
       " array([ 0.90098006,  1.81655754, -0.38935541,  0.90237327, -0.82441507,\n",
       "        -1.62654656, -1.56545485,  1.27431034, -0.77249192,  0.67563543,\n",
       "        -0.77853079, -1.21708134, -0.72254016]),\n",
       " array([ 0.55510587,  1.22409986,  0.8534605 ,  1.05251577,  0.79049177,\n",
       "        -0.95356731, -1.11366983,  0.5491078 , -0.22934584,  2.43186956,\n",
       "        -0.47141708, -1.48544548, -0.16525376]),\n",
       " array([-2.23111060e-01,  9.27871023e-01, -2.43141777e-01,  1.51829490e-03,\n",
       "        -8.24415067e-01, -1.30608025e+00, -1.37470118e+00,  3.07373613e-01,\n",
       "        -1.08786707e+00,  2.25019017e+00, -1.04177111e+00, -1.21708134e+00,\n",
       "        -1.97098694e-01]),\n",
       " array([ 0.71569031,  0.21871714,  1.18244118,  1.50294326,  0.36921172,\n",
       "        -1.19391704, -1.19398717,  0.22679555, -0.08917911,  1.5580782 ,\n",
       "        -0.95402434, -1.1464592 ,  0.0098934 ]),\n",
       " array([ 0.49334262,  2.03199669,  1.80384913,  1.65308575,  0.86070511,\n",
       "        -0.50491447, -1.07351116, -0.74014117, -0.84257529,  1.488867  ,\n",
       "        -1.26113805, -0.97696606, -0.37224585]),\n",
       " array([-0.98897534,  0.62266555, -0.17003496, -0.1486242 , -0.26270834,\n",
       "        -1.67461651, -1.54537552,  0.30737361, -1.50836726,  0.19115705,\n",
       "        -1.30501144, -1.10408592, -0.7543851 ]),\n",
       " array([-2.84874308e-01,  4.81611407e-02, -3.16248596e-01,  1.51829490e-03,\n",
       "        -9.64841748e-01, -1.45029009e+00, -1.52529618e+00,  9.51998098e-01,\n",
       "        -1.66605483e+00,  2.09446454e+00, -1.69987192e+00, -1.38657448e+00,\n",
       "        -8.81764848e-01]),\n",
       " array([ 1.43214399,  0.15588072,  0.41481959,  0.15166079, -0.61377505,\n",
       "        -0.98561394, -1.33454251,  0.62968586, -0.61480435,  2.00795098,\n",
       "        -1.48050498, -1.27357906, -0.27671104]),\n",
       " array([ 0.87627476,  2.974543  ,  0.30515936,  0.30180329, -0.33292168,\n",
       "        -0.98561394, -1.42489951,  1.27431034, -0.9301795 ,  1.14281101,\n",
       "        -1.39275821, -1.23120577, -0.02195154]),\n",
       " array([ 0.49334262,  1.41260912,  0.41481959,  1.05251577,  0.1585717 ,\n",
       "        -0.79333415, -1.28434417,  0.5491078 , -0.31695005,  0.96978302,\n",
       "        -1.12951789, -1.48544548,  0.0098934 ]),\n",
       " array([ 0.33275817,  1.74474449, -0.38935541,  0.15166079,  1.42241183,\n",
       "        -1.12982378, -1.34458217,  0.5491078 , -0.4220751 ,  2.22423597,\n",
       "        -1.61212515, -1.48544548,  0.28057537]),\n",
       " array([ 0.20923168,  0.22769377,  0.01273209,  0.15166079,  1.42241183,\n",
       "        -1.03368389, -1.35462184,  1.3548884 , -0.22934584,  1.83492299,\n",
       "        -1.56825176, -1.40069891,  0.29649784]),\n",
       " array([ 1.39508604,  1.58316512,  1.36520822,  1.50294326, -0.26270834,\n",
       "        -0.39275127, -1.2743045 ,  1.59662258, -0.4220751 ,  1.79166599,\n",
       "        -1.52437837, -1.42894777, -0.59516041])]"
      ]
     },
     "execution_count": 81,
     "metadata": {},
     "output_type": "execute_result"
    }
   ],
   "source": [
    "## your code\n",
    "# Standardization\n",
    "def StandardScaler_to(z):\n",
    "    mean = sum(z)/len(z)\n",
    "    std_dev = (1/len(z) * sum([(z_i - mean)**2 for z_i in z]))**0.5\n",
    "    z_scores = [(z_i - mean)/std_dev for z_i in z]\n",
    "    return z_scores\n",
    "\n",
    "fun_StandardScaler = StandardScaler_to(np.asarray(wine_data))\n",
    "fun_StandardScaler"
   ]
  },
  {
   "cell_type": "code",
   "execution_count": 74,
   "metadata": {},
   "outputs": [
    {
     "data": {
      "text/plain": [
       "array([[ 1.51861254, -0.5622498 ,  0.23205254, ...,  0.36217728,\n",
       "         1.84791957,  1.01300893],\n",
       "       [ 0.24628963, -0.49941338, -0.82799632, ...,  0.40605066,\n",
       "         1.1134493 ,  0.96524152],\n",
       "       [ 0.19687903,  0.02123125,  1.10933436, ...,  0.31830389,\n",
       "         0.78858745,  1.39514818],\n",
       "       ...,\n",
       "       [ 0.33275817,  1.74474449, -0.38935541, ..., -1.61212515,\n",
       "        -1.48544548,  0.28057537],\n",
       "       [ 0.20923168,  0.22769377,  0.01273209, ..., -1.56825176,\n",
       "        -1.40069891,  0.29649784],\n",
       "       [ 1.39508604,  1.58316512,  1.36520822, ..., -1.52437837,\n",
       "        -1.42894777, -0.59516041]])"
      ]
     },
     "execution_count": 74,
     "metadata": {},
     "output_type": "execute_result"
    }
   ],
   "source": [
    "wine_data_scaled"
   ]
  },
  {
   "cell_type": "code",
   "execution_count": 75,
   "metadata": {},
   "outputs": [
    {
     "name": "stdout",
     "output_type": "stream",
     "text": [
      "yes\n"
     ]
    }
   ],
   "source": [
    "a = wine_data_scaled[1].sum().round(5)\n",
    "b = fun_StandardScaler[1].sum().round(5)\n",
    "if a == b:\n",
    "    print(\"yes\")\n",
    "else:\n",
    "    print(\"No\")"
   ]
  },
  {
   "cell_type": "markdown",
   "metadata": {},
   "source": [
    "## Exercise  2 - Visualization (4 points)"
   ]
  },
  {
   "cell_type": "markdown",
   "metadata": {},
   "source": [
    "As noted earlier, standardization/normalization of data can be crucial for some distance-based ML methods.\n",
    "\n",
    "Let’s generate some toy example of unnormalized data and visualize the importance of this process once more:"
   ]
  },
  {
   "cell_type": "code",
   "execution_count": 82,
   "metadata": {},
   "outputs": [
    {
     "data": {
      "text/plain": [
       "array([[-1.68106721, -1.03780723],\n",
       "       [-1.56378372,  0.12189577],\n",
       "       [-1.22530887, -1.73562021],\n",
       "       ...,\n",
       "       [-6.53821301,  5.50022521],\n",
       "       [10.07056696,  4.94609648],\n",
       "       [ 0.53241823,  5.35191117]])"
      ]
     },
     "execution_count": 82,
     "metadata": {},
     "output_type": "execute_result"
    }
   ],
   "source": [
    "feature_0 = np.random.randn(1000) * 10   \n",
    "feature_1 = np.concatenate([np.random.randn(500), np.random.randn(500) + 5])\n",
    "data = np.column_stack([feature_0, feature_1])\n",
    "data "
   ]
  },
  {
   "cell_type": "code",
   "execution_count": 77,
   "metadata": {},
   "outputs": [
    {
     "data": {
      "image/png": "[encoded data removed]",
      "text/plain": [
       "<Figure size 288x288 with 1 Axes>"
      ]
     },
     "metadata": {},
     "output_type": "display_data"
    }
   ],
   "source": [
    "plot_scatter(data[:, 0], data[:, 1], auto_scaled=True, title='Data (different axes units!)')"
   ]
  },
  {
   "cell_type": "markdown",
   "metadata": {},
   "source": [
    "**NOTE:** on the plot above axes are scaled differently and we can clearly see two potential *classes/clusters*. In fact `matplotlib` performed `autoscaling` (which is basically can be considered as `MinMaxScaling` of original data) just for better visualization purposes.\n",
    "\n",
    "Let's turn this feature off and visualize the original data on the plot with equally scaled axes:"
   ]
  },
  {
   "cell_type": "code",
   "execution_count": 78,
   "metadata": {},
   "outputs": [
    {
     "data": {
      "image/png": "[encoded data removed]",
      "text/plain": [
       "<Figure size 288x288 with 1 Axes>"
      ]
     },
     "metadata": {},
     "output_type": "display_data"
    }
   ],
   "source": [
    "plot_scatter(data[:, 0], data[:, 1], auto_scaled=False , title='Data (equal axes units!)')"
   ]
  },
  {
   "cell_type": "markdown",
   "metadata": {},
   "source": [
    "This picture is clearly less interpretable, but much closer to \"how distance-based algorithm see the original data\": separability of data is hardly noticable only because the variation (std) of x-feature is much bigger in absolute numbers."
   ]
  },
  {
   "cell_type": "markdown",
   "metadata": {},
   "source": [
    "Perform `StandardScaling` and `MinMaxScaling` of original data; visualize results for each case (**use `plot_scatter` with `auto_scaled=False`**):"
   ]
  },
  {
   "cell_type": "markdown",
   "metadata": {},
   "source": [
    "### MinMaxScaling (1 point)"
   ]
  },
  {
   "cell_type": "code",
   "execution_count": 84,
   "metadata": {},
   "outputs": [
    {
     "data": {
      "image/png": "[encoded data removed]",
      "text/plain": [
       "<Figure size 288x288 with 1 Axes>"
      ]
     },
     "metadata": {},
     "output_type": "display_data"
    }
   ],
   "source": [
    "## your code\n",
    "feature_0 = np.random.randn(1000) * 10   \n",
    "feature_1 = np.concatenate([np.random.randn(500), np.random.randn(500) + 5])\n",
    "data = np.column_stack([feature_0, feature_1])\n",
    "data = MinMaxScaler().fit_transform(data)\n",
    "plot_scatter(data[:, 0], data[:, 1], auto_scaled=False, title='Data MinMaxScaling')"
   ]
  },
  {
   "cell_type": "markdown",
   "metadata": {},
   "source": [
    "### StandardScaler (1 point)"
   ]
  },
  {
   "cell_type": "code",
   "execution_count": 87,
   "metadata": {},
   "outputs": [
    {
     "ename": "TypeError",
     "evalue": "StandardScaler() missing 1 required positional argument: 'z'",
     "output_type": "error",
     "traceback": [
      "\u001b[1;31m---------------------------------------------------------------------------\u001b[0m",
      "\u001b[1;31mTypeError\u001b[0m                                 Traceback (most recent call last)",
      "\u001b[1;32m<ipython-input-87-ee34a8d37b17>\u001b[0m in \u001b[0;36m<module>\u001b[1;34m\u001b[0m\n\u001b[0;32m      3\u001b[0m \u001b[0mfeature_11\u001b[0m \u001b[1;33m=\u001b[0m \u001b[0mnp\u001b[0m\u001b[1;33m.\u001b[0m\u001b[0mconcatenate\u001b[0m\u001b[1;33m(\u001b[0m\u001b[1;33m[\u001b[0m\u001b[0mnp\u001b[0m\u001b[1;33m.\u001b[0m\u001b[0mrandom\u001b[0m\u001b[1;33m.\u001b[0m\u001b[0mrandn\u001b[0m\u001b[1;33m(\u001b[0m\u001b[1;36m500\u001b[0m\u001b[1;33m)\u001b[0m\u001b[1;33m,\u001b[0m \u001b[0mnp\u001b[0m\u001b[1;33m.\u001b[0m\u001b[0mrandom\u001b[0m\u001b[1;33m.\u001b[0m\u001b[0mrandn\u001b[0m\u001b[1;33m(\u001b[0m\u001b[1;36m500\u001b[0m\u001b[1;33m)\u001b[0m \u001b[1;33m+\u001b[0m \u001b[1;36m5\u001b[0m\u001b[1;33m]\u001b[0m\u001b[1;33m)\u001b[0m\u001b[1;33m\u001b[0m\u001b[1;33m\u001b[0m\u001b[0m\n\u001b[0;32m      4\u001b[0m \u001b[0mdata_z\u001b[0m \u001b[1;33m=\u001b[0m \u001b[0mnp\u001b[0m\u001b[1;33m.\u001b[0m\u001b[0mcolumn_stack\u001b[0m\u001b[1;33m(\u001b[0m\u001b[1;33m[\u001b[0m\u001b[0mfeature_01\u001b[0m\u001b[1;33m,\u001b[0m \u001b[0mfeature_11\u001b[0m\u001b[1;33m]\u001b[0m\u001b[1;33m)\u001b[0m\u001b[1;33m\u001b[0m\u001b[1;33m\u001b[0m\u001b[0m\n\u001b[1;32m----> 5\u001b[1;33m \u001b[0mdata\u001b[0m \u001b[1;33m=\u001b[0m \u001b[0mStandardScaler\u001b[0m\u001b[1;33m(\u001b[0m\u001b[1;33m)\u001b[0m\u001b[1;33m.\u001b[0m\u001b[0mfit_transform\u001b[0m\u001b[1;33m(\u001b[0m\u001b[0mdata_z\u001b[0m\u001b[1;33m)\u001b[0m\u001b[1;33m\u001b[0m\u001b[1;33m\u001b[0m\u001b[0m\n\u001b[0m\u001b[0;32m      6\u001b[0m \u001b[0mplot_scatter\u001b[0m\u001b[1;33m(\u001b[0m\u001b[0mdata\u001b[0m\u001b[1;33m[\u001b[0m\u001b[1;33m:\u001b[0m\u001b[1;33m,\u001b[0m \u001b[1;36m0\u001b[0m\u001b[1;33m]\u001b[0m\u001b[1;33m,\u001b[0m \u001b[0mdata\u001b[0m\u001b[1;33m[\u001b[0m\u001b[1;33m:\u001b[0m\u001b[1;33m,\u001b[0m \u001b[1;36m1\u001b[0m\u001b[1;33m]\u001b[0m\u001b[1;33m,\u001b[0m \u001b[0mauto_scaled\u001b[0m\u001b[1;33m=\u001b[0m\u001b[1;32mFalse\u001b[0m\u001b[1;33m,\u001b[0m \u001b[0mtitle\u001b[0m\u001b[1;33m=\u001b[0m\u001b[1;34m'Data StandardScaler'\u001b[0m\u001b[1;33m)\u001b[0m\u001b[1;33m\u001b[0m\u001b[1;33m\u001b[0m\u001b[0m\n",
      "\u001b[1;31mTypeError\u001b[0m: StandardScaler() missing 1 required positional argument: 'z'"
     ]
    }
   ],
   "source": [
    "## your code\n",
    "feature_01 = np.random.randn(1000) * 10   \n",
    "feature_11 = np.concatenate([np.random.randn(500), np.random.randn(500) + 5])\n",
    "data_z = np.column_stack([feature_01, feature_11])\n",
    "data = StandardScaler().fit_transform(data_z)\n",
    "plot_scatter(data[:, 0], data[:, 1], auto_scaled=False, title='Data StandardScaler')"
   ]
  },
  {
   "cell_type": "markdown",
   "metadata": {},
   "source": [
    "### (Bonus) K-means (2 points)"
   ]
  },
  {
   "cell_type": "markdown",
   "metadata": {},
   "source": [
    "Illustrate the impact of scaling on basic distance-based clustering algorithm [K-means](https://towardsdatascience.com/understanding-k-means-clustering-in-machine-learning-6a6e67336aa1) using `data` generated above.\n",
    "\n",
    "**NOTE:** basically, you don't need understanding K-means algorithm here, you just need to:\n",
    "\n",
    "1) run algorithm (with k=2, k - number of clusters/classes) on unscaled data    \n",
    "2) run algorithm (with k=2) on scaled data    \n",
    "3) plot results: highlight different clusters using different colors.\n",
    "\n",
    "You can use this [question](https://stats.stackexchange.com/questions/89809/is-it-important-to-scale-data-before-clustering/89813) as a hint, but I recommend you to plot results using `plot_scatter` with `equal_scaled=True`: it might help you to intuitively understand the reasons of such scaling impact.\n"
   ]
  },
  {
   "cell_type": "code",
   "execution_count": null,
   "metadata": {},
   "outputs": [],
   "source": [
    "## your code\n"
   ]
  },
  {
   "cell_type": "markdown",
   "metadata": {},
   "source": [
    "## Exercise  3 - Preprocessing Pipeline (3 points)"
   ]
  },
  {
   "cell_type": "code",
   "execution_count": null,
   "metadata": {},
   "outputs": [],
   "source": [
    "wine_train, wine_val, wine_labels_train, wine_labels_val = train_test_split(wine_data, wine_labels, \n",
    "                                                                            test_size=0.3, random_state=42)"
   ]
  },
  {
   "cell_type": "markdown",
   "metadata": {},
   "source": [
    "Train model (for example, `LogisticRegression(solver='liblinear', penalty='l1')` on raw `wine_train` data; then train same model after data scaling; then add feature selection (and train model again on scaled data).\n",
    "\n",
    "Measure `accuracy` of all 3 approaches on `wine_val` dataset. Describe and explain results."
   ]
  },
  {
   "cell_type": "code",
   "execution_count": null,
   "metadata": {},
   "outputs": [],
   "source": [
    "## your code"
   ]
  },
  {
   "cell_type": "markdown",
   "metadata": {},
   "source": [
    "# Materials & References"
   ]
  },
  {
   "cell_type": "markdown",
   "metadata": {},
   "source": [
    "1. General article about feature engineering and selection (main reference):\n",
    "https://github.com/Yorko/mlcourse.ai/blob/master/jupyter_english/topic06_features_regression/topic6_feature_engineering_feature_selection.ipynb\n",
    "\n",
    "\n",
    "2. Feature engineering/preprocessing, using scikit-learn API (great code examples, but really brief explanation):    \n",
    "https://scikit-learn.org/stable/modules/preprocessing\n",
    "\n",
    "\n",
    "3. Feature scaling/normalization:     \n",
    "https://towardsdatascience.com/all-about-feature-scaling-bcc0ad75cb35\n",
    "\n",
    "\n",
    "4. Log Transform/power transform:    \n",
    "https://medium.com/@kyawsawhtoon/log-transformation-purpose-and-interpretation-9444b4b049c9\n",
    "\n",
    "\n",
    "6. Missing values preprocessing using scikit-learn API (great code examples, great explanation):    \n",
    "https://scikit-learn.org/stable/modules/impute.html\n",
    "\n",
    "\n",
    "7. Feature selection scikit-learn API (great code examples, great explanation):   \n",
    "https://scikit-learn.org/stable/modules/feature_selection.html\n",
    "\n",
    "\n",
    "8. Melbourne housing dataset source:    \n",
    "https://www.kaggle.com/anthonypino/melbourne-housing-market"
   ]
  }
 ],
 "metadata": {
  "kernelspec": {
   "display_name": "Python 3",
   "language": "python",
   "name": "python3"
  },
  "language_info": {
   "codemirror_mode": {
    "name": "ipython",
    "version": 3
   },
   "file_extension": ".py",
   "mimetype": "text/x-python",
   "name": "python",
   "nbconvert_exporter": "python",
   "pygments_lexer": "ipython3",
   "version": "3.8.5"
  },
  "toc": {
   "base_numbering": 1,
   "nav_menu": {},
   "number_sections": true,
   "sideBar": true,
   "skip_h1_title": false,
   "title_cell": "Table of Contents",
   "title_sidebar": "Contents",
   "toc_cell": false,
   "toc_position": {
    "height": "calc(100% - 180px)",
    "left": "10px",
    "top": "150px",
    "width": "404.21px"
   },
   "toc_section_display": true,
   "toc_window_display": true
  }
 },
 "nbformat": 4,
 "nbformat_minor": 4
}
